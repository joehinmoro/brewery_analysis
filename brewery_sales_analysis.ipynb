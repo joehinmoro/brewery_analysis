{
  "cells": [
    {
      "cell_type": "markdown",
      "source": [
        "# Brewery Sales Analysis\n",
        "\n",
        "Analyzing brewery sales data"
      ],
      "metadata": {
        "id": "ktgBgvHHOOKG"
      }
    },
    {
      "cell_type": "markdown",
      "source": [
        "## Data Import and Preprocessing"
      ],
      "metadata": {
        "id": "fMsvElKyOWAl"
      }
    },
    {
      "cell_type": "code",
      "execution_count": 1,
      "metadata": {
        "id": "d5rty6KN3uyJ"
      },
      "outputs": [],
      "source": [
        "# imports\n",
        "import numpy as np\n",
        "import pandas as pd\n",
        "import calendar\n",
        "from sqlalchemy import create_engine"
      ]
    },
    {
      "cell_type": "code",
      "execution_count": 2,
      "metadata": {
        "colab": {
          "base_uri": "https://localhost:8080/",
          "height": 206
        },
        "id": "ih_pJxiz5mzt",
        "outputId": "0fce7cf1-5d9d-4924-a7cd-c12fd5d6f899"
      },
      "outputs": [
        {
          "output_type": "execute_result",
          "data": {
            "text/plain": [
              "   SALES_ID SALES_REP               EMAILS       BRANDS  PLANT_COST  \\\n",
              "0     10101   Jardine       jard@gmail.com       trophy         150   \n",
              "1     10102      Gill      gillhell@uk.com    budweiser         250   \n",
              "2     10103   Sorvino  sorvi2000@gmail.com  castle lite         180   \n",
              "3     10104     Jones    jone.ai@yahoo.com  eagle lager         170   \n",
              "4     10105   Andrews       andy@gmail.com         hero         150   \n",
              "\n",
              "   UNIT_PRICE  QUANTITY    COST  PROFIT COUNTRIES      REGION    MONTHS  YEARS  \n",
              "0         200       725  145000   36250     Ghana   Southeast   January   2019  \n",
              "1         500       815  407500  203750   Nigeria        west  February   2018  \n",
              "2         450       937  421650  252990      Togo  southsouth     March   2018  \n",
              "3         250       765  191250   61200     Benin   northwest     April   2018  \n",
              "4         200       836  167200   41800   Senegal   northeast       May   2017  "
            ],
            "text/html": [
              "\n",
              "  <div id=\"df-4a31d875-de22-4a56-93e5-dc4ad2d096cb\" class=\"colab-df-container\">\n",
              "    <div>\n",
              "<style scoped>\n",
              "    .dataframe tbody tr th:only-of-type {\n",
              "        vertical-align: middle;\n",
              "    }\n",
              "\n",
              "    .dataframe tbody tr th {\n",
              "        vertical-align: top;\n",
              "    }\n",
              "\n",
              "    .dataframe thead th {\n",
              "        text-align: right;\n",
              "    }\n",
              "</style>\n",
              "<table border=\"1\" class=\"dataframe\">\n",
              "  <thead>\n",
              "    <tr style=\"text-align: right;\">\n",
              "      <th></th>\n",
              "      <th>SALES_ID</th>\n",
              "      <th>SALES_REP</th>\n",
              "      <th>EMAILS</th>\n",
              "      <th>BRANDS</th>\n",
              "      <th>PLANT_COST</th>\n",
              "      <th>UNIT_PRICE</th>\n",
              "      <th>QUANTITY</th>\n",
              "      <th>COST</th>\n",
              "      <th>PROFIT</th>\n",
              "      <th>COUNTRIES</th>\n",
              "      <th>REGION</th>\n",
              "      <th>MONTHS</th>\n",
              "      <th>YEARS</th>\n",
              "    </tr>\n",
              "  </thead>\n",
              "  <tbody>\n",
              "    <tr>\n",
              "      <th>0</th>\n",
              "      <td>10101</td>\n",
              "      <td>Jardine</td>\n",
              "      <td>jard@gmail.com</td>\n",
              "      <td>trophy</td>\n",
              "      <td>150</td>\n",
              "      <td>200</td>\n",
              "      <td>725</td>\n",
              "      <td>145000</td>\n",
              "      <td>36250</td>\n",
              "      <td>Ghana</td>\n",
              "      <td>Southeast</td>\n",
              "      <td>January</td>\n",
              "      <td>2019</td>\n",
              "    </tr>\n",
              "    <tr>\n",
              "      <th>1</th>\n",
              "      <td>10102</td>\n",
              "      <td>Gill</td>\n",
              "      <td>gillhell@uk.com</td>\n",
              "      <td>budweiser</td>\n",
              "      <td>250</td>\n",
              "      <td>500</td>\n",
              "      <td>815</td>\n",
              "      <td>407500</td>\n",
              "      <td>203750</td>\n",
              "      <td>Nigeria</td>\n",
              "      <td>west</td>\n",
              "      <td>February</td>\n",
              "      <td>2018</td>\n",
              "    </tr>\n",
              "    <tr>\n",
              "      <th>2</th>\n",
              "      <td>10103</td>\n",
              "      <td>Sorvino</td>\n",
              "      <td>sorvi2000@gmail.com</td>\n",
              "      <td>castle lite</td>\n",
              "      <td>180</td>\n",
              "      <td>450</td>\n",
              "      <td>937</td>\n",
              "      <td>421650</td>\n",
              "      <td>252990</td>\n",
              "      <td>Togo</td>\n",
              "      <td>southsouth</td>\n",
              "      <td>March</td>\n",
              "      <td>2018</td>\n",
              "    </tr>\n",
              "    <tr>\n",
              "      <th>3</th>\n",
              "      <td>10104</td>\n",
              "      <td>Jones</td>\n",
              "      <td>jone.ai@yahoo.com</td>\n",
              "      <td>eagle lager</td>\n",
              "      <td>170</td>\n",
              "      <td>250</td>\n",
              "      <td>765</td>\n",
              "      <td>191250</td>\n",
              "      <td>61200</td>\n",
              "      <td>Benin</td>\n",
              "      <td>northwest</td>\n",
              "      <td>April</td>\n",
              "      <td>2018</td>\n",
              "    </tr>\n",
              "    <tr>\n",
              "      <th>4</th>\n",
              "      <td>10105</td>\n",
              "      <td>Andrews</td>\n",
              "      <td>andy@gmail.com</td>\n",
              "      <td>hero</td>\n",
              "      <td>150</td>\n",
              "      <td>200</td>\n",
              "      <td>836</td>\n",
              "      <td>167200</td>\n",
              "      <td>41800</td>\n",
              "      <td>Senegal</td>\n",
              "      <td>northeast</td>\n",
              "      <td>May</td>\n",
              "      <td>2017</td>\n",
              "    </tr>\n",
              "  </tbody>\n",
              "</table>\n",
              "</div>\n",
              "    <div class=\"colab-df-buttons\">\n",
              "\n",
              "  <div class=\"colab-df-container\">\n",
              "    <button class=\"colab-df-convert\" onclick=\"convertToInteractive('df-4a31d875-de22-4a56-93e5-dc4ad2d096cb')\"\n",
              "            title=\"Convert this dataframe to an interactive table.\"\n",
              "            style=\"display:none;\">\n",
              "\n",
              "  <svg xmlns=\"http://www.w3.org/2000/svg\" height=\"24px\" viewBox=\"0 -960 960 960\">\n",
              "    <path d=\"M120-120v-720h720v720H120Zm60-500h600v-160H180v160Zm220 220h160v-160H400v160Zm0 220h160v-160H400v160ZM180-400h160v-160H180v160Zm440 0h160v-160H620v160ZM180-180h160v-160H180v160Zm440 0h160v-160H620v160Z\"/>\n",
              "  </svg>\n",
              "    </button>\n",
              "\n",
              "  <style>\n",
              "    .colab-df-container {\n",
              "      display:flex;\n",
              "      gap: 12px;\n",
              "    }\n",
              "\n",
              "    .colab-df-convert {\n",
              "      background-color: #E8F0FE;\n",
              "      border: none;\n",
              "      border-radius: 50%;\n",
              "      cursor: pointer;\n",
              "      display: none;\n",
              "      fill: #1967D2;\n",
              "      height: 32px;\n",
              "      padding: 0 0 0 0;\n",
              "      width: 32px;\n",
              "    }\n",
              "\n",
              "    .colab-df-convert:hover {\n",
              "      background-color: #E2EBFA;\n",
              "      box-shadow: 0px 1px 2px rgba(60, 64, 67, 0.3), 0px 1px 3px 1px rgba(60, 64, 67, 0.15);\n",
              "      fill: #174EA6;\n",
              "    }\n",
              "\n",
              "    .colab-df-buttons div {\n",
              "      margin-bottom: 4px;\n",
              "    }\n",
              "\n",
              "    [theme=dark] .colab-df-convert {\n",
              "      background-color: #3B4455;\n",
              "      fill: #D2E3FC;\n",
              "    }\n",
              "\n",
              "    [theme=dark] .colab-df-convert:hover {\n",
              "      background-color: #434B5C;\n",
              "      box-shadow: 0px 1px 3px 1px rgba(0, 0, 0, 0.15);\n",
              "      filter: drop-shadow(0px 1px 2px rgba(0, 0, 0, 0.3));\n",
              "      fill: #FFFFFF;\n",
              "    }\n",
              "  </style>\n",
              "\n",
              "    <script>\n",
              "      const buttonEl =\n",
              "        document.querySelector('#df-4a31d875-de22-4a56-93e5-dc4ad2d096cb button.colab-df-convert');\n",
              "      buttonEl.style.display =\n",
              "        google.colab.kernel.accessAllowed ? 'block' : 'none';\n",
              "\n",
              "      async function convertToInteractive(key) {\n",
              "        const element = document.querySelector('#df-4a31d875-de22-4a56-93e5-dc4ad2d096cb');\n",
              "        const dataTable =\n",
              "          await google.colab.kernel.invokeFunction('convertToInteractive',\n",
              "                                                    [key], {});\n",
              "        if (!dataTable) return;\n",
              "\n",
              "        const docLinkHtml = 'Like what you see? Visit the ' +\n",
              "          '<a target=\"_blank\" href=https://colab.research.google.com/notebooks/data_table.ipynb>data table notebook</a>'\n",
              "          + ' to learn more about interactive tables.';\n",
              "        element.innerHTML = '';\n",
              "        dataTable['output_type'] = 'display_data';\n",
              "        await google.colab.output.renderOutput(dataTable, element);\n",
              "        const docLink = document.createElement('div');\n",
              "        docLink.innerHTML = docLinkHtml;\n",
              "        element.appendChild(docLink);\n",
              "      }\n",
              "    </script>\n",
              "  </div>\n",
              "\n",
              "\n",
              "<div id=\"df-77ecadc4-a8e3-4d5a-9348-81a4aac2e417\">\n",
              "  <button class=\"colab-df-quickchart\" onclick=\"quickchart('df-77ecadc4-a8e3-4d5a-9348-81a4aac2e417')\"\n",
              "            title=\"Suggest charts\"\n",
              "            style=\"display:none;\">\n",
              "\n",
              "<svg xmlns=\"http://www.w3.org/2000/svg\" height=\"24px\"viewBox=\"0 0 24 24\"\n",
              "     width=\"24px\">\n",
              "    <g>\n",
              "        <path d=\"M19 3H5c-1.1 0-2 .9-2 2v14c0 1.1.9 2 2 2h14c1.1 0 2-.9 2-2V5c0-1.1-.9-2-2-2zM9 17H7v-7h2v7zm4 0h-2V7h2v10zm4 0h-2v-4h2v4z\"/>\n",
              "    </g>\n",
              "</svg>\n",
              "  </button>\n",
              "\n",
              "<style>\n",
              "  .colab-df-quickchart {\n",
              "      --bg-color: #E8F0FE;\n",
              "      --fill-color: #1967D2;\n",
              "      --hover-bg-color: #E2EBFA;\n",
              "      --hover-fill-color: #174EA6;\n",
              "      --disabled-fill-color: #AAA;\n",
              "      --disabled-bg-color: #DDD;\n",
              "  }\n",
              "\n",
              "  [theme=dark] .colab-df-quickchart {\n",
              "      --bg-color: #3B4455;\n",
              "      --fill-color: #D2E3FC;\n",
              "      --hover-bg-color: #434B5C;\n",
              "      --hover-fill-color: #FFFFFF;\n",
              "      --disabled-bg-color: #3B4455;\n",
              "      --disabled-fill-color: #666;\n",
              "  }\n",
              "\n",
              "  .colab-df-quickchart {\n",
              "    background-color: var(--bg-color);\n",
              "    border: none;\n",
              "    border-radius: 50%;\n",
              "    cursor: pointer;\n",
              "    display: none;\n",
              "    fill: var(--fill-color);\n",
              "    height: 32px;\n",
              "    padding: 0;\n",
              "    width: 32px;\n",
              "  }\n",
              "\n",
              "  .colab-df-quickchart:hover {\n",
              "    background-color: var(--hover-bg-color);\n",
              "    box-shadow: 0 1px 2px rgba(60, 64, 67, 0.3), 0 1px 3px 1px rgba(60, 64, 67, 0.15);\n",
              "    fill: var(--button-hover-fill-color);\n",
              "  }\n",
              "\n",
              "  .colab-df-quickchart-complete:disabled,\n",
              "  .colab-df-quickchart-complete:disabled:hover {\n",
              "    background-color: var(--disabled-bg-color);\n",
              "    fill: var(--disabled-fill-color);\n",
              "    box-shadow: none;\n",
              "  }\n",
              "\n",
              "  .colab-df-spinner {\n",
              "    border: 2px solid var(--fill-color);\n",
              "    border-color: transparent;\n",
              "    border-bottom-color: var(--fill-color);\n",
              "    animation:\n",
              "      spin 1s steps(1) infinite;\n",
              "  }\n",
              "\n",
              "  @keyframes spin {\n",
              "    0% {\n",
              "      border-color: transparent;\n",
              "      border-bottom-color: var(--fill-color);\n",
              "      border-left-color: var(--fill-color);\n",
              "    }\n",
              "    20% {\n",
              "      border-color: transparent;\n",
              "      border-left-color: var(--fill-color);\n",
              "      border-top-color: var(--fill-color);\n",
              "    }\n",
              "    30% {\n",
              "      border-color: transparent;\n",
              "      border-left-color: var(--fill-color);\n",
              "      border-top-color: var(--fill-color);\n",
              "      border-right-color: var(--fill-color);\n",
              "    }\n",
              "    40% {\n",
              "      border-color: transparent;\n",
              "      border-right-color: var(--fill-color);\n",
              "      border-top-color: var(--fill-color);\n",
              "    }\n",
              "    60% {\n",
              "      border-color: transparent;\n",
              "      border-right-color: var(--fill-color);\n",
              "    }\n",
              "    80% {\n",
              "      border-color: transparent;\n",
              "      border-right-color: var(--fill-color);\n",
              "      border-bottom-color: var(--fill-color);\n",
              "    }\n",
              "    90% {\n",
              "      border-color: transparent;\n",
              "      border-bottom-color: var(--fill-color);\n",
              "    }\n",
              "  }\n",
              "</style>\n",
              "\n",
              "  <script>\n",
              "    async function quickchart(key) {\n",
              "      const quickchartButtonEl =\n",
              "        document.querySelector('#' + key + ' button');\n",
              "      quickchartButtonEl.disabled = true;  // To prevent multiple clicks.\n",
              "      quickchartButtonEl.classList.add('colab-df-spinner');\n",
              "      try {\n",
              "        const charts = await google.colab.kernel.invokeFunction(\n",
              "            'suggestCharts', [key], {});\n",
              "      } catch (error) {\n",
              "        console.error('Error during call to suggestCharts:', error);\n",
              "      }\n",
              "      quickchartButtonEl.classList.remove('colab-df-spinner');\n",
              "      quickchartButtonEl.classList.add('colab-df-quickchart-complete');\n",
              "    }\n",
              "    (() => {\n",
              "      let quickchartButtonEl =\n",
              "        document.querySelector('#df-77ecadc4-a8e3-4d5a-9348-81a4aac2e417 button');\n",
              "      quickchartButtonEl.style.display =\n",
              "        google.colab.kernel.accessAllowed ? 'block' : 'none';\n",
              "    })();\n",
              "  </script>\n",
              "</div>\n",
              "\n",
              "    </div>\n",
              "  </div>\n"
            ],
            "application/vnd.google.colaboratory.intrinsic+json": {
              "type": "dataframe",
              "summary": "{\n  \"name\": \"# df\",\n  \"rows\": 5,\n  \"fields\": [\n    {\n      \"column\": \"SALES_ID\",\n      \"properties\": {\n        \"dtype\": \"number\",\n        \"std\": 1,\n        \"min\": 10101,\n        \"max\": 10105,\n        \"num_unique_values\": 5,\n        \"samples\": [\n          10102,\n          10105,\n          10103\n        ],\n        \"semantic_type\": \"\",\n        \"description\": \"\"\n      }\n    },\n    {\n      \"column\": \"SALES_REP\",\n      \"properties\": {\n        \"dtype\": \"string\",\n        \"num_unique_values\": 5,\n        \"samples\": [\n          \"Gill\",\n          \"Andrews\",\n          \"Sorvino\"\n        ],\n        \"semantic_type\": \"\",\n        \"description\": \"\"\n      }\n    },\n    {\n      \"column\": \"EMAILS\",\n      \"properties\": {\n        \"dtype\": \"string\",\n        \"num_unique_values\": 5,\n        \"samples\": [\n          \"gillhell@uk.com\",\n          \"andy@gmail.com\",\n          \"sorvi2000@gmail.com\"\n        ],\n        \"semantic_type\": \"\",\n        \"description\": \"\"\n      }\n    },\n    {\n      \"column\": \"BRANDS\",\n      \"properties\": {\n        \"dtype\": \"string\",\n        \"num_unique_values\": 5,\n        \"samples\": [\n          \"budweiser\",\n          \"hero\",\n          \"castle lite\"\n        ],\n        \"semantic_type\": \"\",\n        \"description\": \"\"\n      }\n    },\n    {\n      \"column\": \"PLANT_COST\",\n      \"properties\": {\n        \"dtype\": \"number\",\n        \"std\": 41,\n        \"min\": 150,\n        \"max\": 250,\n        \"num_unique_values\": 4,\n        \"samples\": [\n          250,\n          170,\n          150\n        ],\n        \"semantic_type\": \"\",\n        \"description\": \"\"\n      }\n    },\n    {\n      \"column\": \"UNIT_PRICE\",\n      \"properties\": {\n        \"dtype\": \"number\",\n        \"std\": 144,\n        \"min\": 200,\n        \"max\": 500,\n        \"num_unique_values\": 4,\n        \"samples\": [\n          500,\n          250,\n          200\n        ],\n        \"semantic_type\": \"\",\n        \"description\": \"\"\n      }\n    },\n    {\n      \"column\": \"QUANTITY\",\n      \"properties\": {\n        \"dtype\": \"number\",\n        \"std\": 80,\n        \"min\": 725,\n        \"max\": 937,\n        \"num_unique_values\": 5,\n        \"samples\": [\n          815,\n          836,\n          937\n        ],\n        \"semantic_type\": \"\",\n        \"description\": \"\"\n      }\n    },\n    {\n      \"column\": \"COST\",\n      \"properties\": {\n        \"dtype\": \"number\",\n        \"std\": 136233,\n        \"min\": 145000,\n        \"max\": 421650,\n        \"num_unique_values\": 5,\n        \"samples\": [\n          407500,\n          167200,\n          421650\n        ],\n        \"semantic_type\": \"\",\n        \"description\": \"\"\n      }\n    },\n    {\n      \"column\": \"PROFIT\",\n      \"properties\": {\n        \"dtype\": \"number\",\n        \"std\": 101592,\n        \"min\": 36250,\n        \"max\": 252990,\n        \"num_unique_values\": 5,\n        \"samples\": [\n          203750,\n          41800,\n          252990\n        ],\n        \"semantic_type\": \"\",\n        \"description\": \"\"\n      }\n    },\n    {\n      \"column\": \"COUNTRIES\",\n      \"properties\": {\n        \"dtype\": \"string\",\n        \"num_unique_values\": 5,\n        \"samples\": [\n          \"Nigeria\",\n          \"Senegal\",\n          \"Togo\"\n        ],\n        \"semantic_type\": \"\",\n        \"description\": \"\"\n      }\n    },\n    {\n      \"column\": \"REGION\",\n      \"properties\": {\n        \"dtype\": \"string\",\n        \"num_unique_values\": 5,\n        \"samples\": [\n          \"west\",\n          \"northeast\",\n          \"southsouth\"\n        ],\n        \"semantic_type\": \"\",\n        \"description\": \"\"\n      }\n    },\n    {\n      \"column\": \"MONTHS\",\n      \"properties\": {\n        \"dtype\": \"string\",\n        \"num_unique_values\": 5,\n        \"samples\": [\n          \"February\",\n          \"May\",\n          \"March\"\n        ],\n        \"semantic_type\": \"\",\n        \"description\": \"\"\n      }\n    },\n    {\n      \"column\": \"YEARS\",\n      \"properties\": {\n        \"dtype\": \"number\",\n        \"std\": 0,\n        \"min\": 2017,\n        \"max\": 2019,\n        \"num_unique_values\": 3,\n        \"samples\": [\n          2019,\n          2018,\n          2017\n        ],\n        \"semantic_type\": \"\",\n        \"description\": \"\"\n      }\n    }\n  ]\n}"
            }
          },
          "metadata": {},
          "execution_count": 2
        }
      ],
      "source": [
        "# read dataset csv\n",
        "df = pd.read_csv('brew_analysis.csv')\n",
        "\n",
        "df.head()\n",
        "# df.info()\n",
        "# df.describe()"
      ]
    },
    {
      "cell_type": "code",
      "execution_count": 3,
      "metadata": {
        "id": "AOcoaA3GEUCc",
        "colab": {
          "base_uri": "https://localhost:8080/"
        },
        "outputId": "56da3ca8-06f0-4729-c97e-25840c3f0293"
      },
      "outputs": [
        {
          "output_type": "stream",
          "name": "stdout",
          "text": [
            "['sales_id', 'sales_rep', 'email', 'brand', 'plant_cost', 'unit_price', 'quantity', 'cost', 'profit', 'country', 'region', 'month', 'year']\n"
          ]
        }
      ],
      "source": [
        "# fix column name to conventional format (lowercase, singular)\n",
        "# extract column headers\n",
        "columns_proper = [x.lower() for x in list(df.columns)]\n",
        "\n",
        "# remove plural 's'\n",
        "columns_proper = [x[:-1] if x[-1] == 's' else x for x  in columns_proper]\n",
        "\n",
        "# replace\n",
        "columns_proper = [x[:-2]+'y' if x[-2:] == 'ie' else x for x in columns_proper]\n",
        "\n",
        "print(columns_proper)"
      ]
    },
    {
      "cell_type": "code",
      "execution_count": 4,
      "metadata": {
        "id": "9peWqK5WHRFM",
        "colab": {
          "base_uri": "https://localhost:8080/",
          "height": 206
        },
        "outputId": "cb14b56c-d600-4272-8c56-eeeeee0c5053"
      },
      "outputs": [
        {
          "output_type": "execute_result",
          "data": {
            "text/plain": [
              "   sales_id sales_rep                email        brand  plant_cost  \\\n",
              "0     10101   Jardine       jard@gmail.com       trophy         150   \n",
              "1     10102      Gill      gillhell@uk.com    budweiser         250   \n",
              "2     10103   Sorvino  sorvi2000@gmail.com  castle lite         180   \n",
              "3     10104     Jones    jone.ai@yahoo.com  eagle lager         170   \n",
              "4     10105   Andrews       andy@gmail.com         hero         150   \n",
              "\n",
              "   unit_price  quantity    cost  profit  country      region     month  year  \n",
              "0         200       725  145000   36250    Ghana   Southeast   January  2019  \n",
              "1         500       815  407500  203750  Nigeria        west  February  2018  \n",
              "2         450       937  421650  252990     Togo  southsouth     March  2018  \n",
              "3         250       765  191250   61200    Benin   northwest     April  2018  \n",
              "4         200       836  167200   41800  Senegal   northeast       May  2017  "
            ],
            "text/html": [
              "\n",
              "  <div id=\"df-962f8812-bda3-4103-b9ee-a30cf12ea96e\" class=\"colab-df-container\">\n",
              "    <div>\n",
              "<style scoped>\n",
              "    .dataframe tbody tr th:only-of-type {\n",
              "        vertical-align: middle;\n",
              "    }\n",
              "\n",
              "    .dataframe tbody tr th {\n",
              "        vertical-align: top;\n",
              "    }\n",
              "\n",
              "    .dataframe thead th {\n",
              "        text-align: right;\n",
              "    }\n",
              "</style>\n",
              "<table border=\"1\" class=\"dataframe\">\n",
              "  <thead>\n",
              "    <tr style=\"text-align: right;\">\n",
              "      <th></th>\n",
              "      <th>sales_id</th>\n",
              "      <th>sales_rep</th>\n",
              "      <th>email</th>\n",
              "      <th>brand</th>\n",
              "      <th>plant_cost</th>\n",
              "      <th>unit_price</th>\n",
              "      <th>quantity</th>\n",
              "      <th>cost</th>\n",
              "      <th>profit</th>\n",
              "      <th>country</th>\n",
              "      <th>region</th>\n",
              "      <th>month</th>\n",
              "      <th>year</th>\n",
              "    </tr>\n",
              "  </thead>\n",
              "  <tbody>\n",
              "    <tr>\n",
              "      <th>0</th>\n",
              "      <td>10101</td>\n",
              "      <td>Jardine</td>\n",
              "      <td>jard@gmail.com</td>\n",
              "      <td>trophy</td>\n",
              "      <td>150</td>\n",
              "      <td>200</td>\n",
              "      <td>725</td>\n",
              "      <td>145000</td>\n",
              "      <td>36250</td>\n",
              "      <td>Ghana</td>\n",
              "      <td>Southeast</td>\n",
              "      <td>January</td>\n",
              "      <td>2019</td>\n",
              "    </tr>\n",
              "    <tr>\n",
              "      <th>1</th>\n",
              "      <td>10102</td>\n",
              "      <td>Gill</td>\n",
              "      <td>gillhell@uk.com</td>\n",
              "      <td>budweiser</td>\n",
              "      <td>250</td>\n",
              "      <td>500</td>\n",
              "      <td>815</td>\n",
              "      <td>407500</td>\n",
              "      <td>203750</td>\n",
              "      <td>Nigeria</td>\n",
              "      <td>west</td>\n",
              "      <td>February</td>\n",
              "      <td>2018</td>\n",
              "    </tr>\n",
              "    <tr>\n",
              "      <th>2</th>\n",
              "      <td>10103</td>\n",
              "      <td>Sorvino</td>\n",
              "      <td>sorvi2000@gmail.com</td>\n",
              "      <td>castle lite</td>\n",
              "      <td>180</td>\n",
              "      <td>450</td>\n",
              "      <td>937</td>\n",
              "      <td>421650</td>\n",
              "      <td>252990</td>\n",
              "      <td>Togo</td>\n",
              "      <td>southsouth</td>\n",
              "      <td>March</td>\n",
              "      <td>2018</td>\n",
              "    </tr>\n",
              "    <tr>\n",
              "      <th>3</th>\n",
              "      <td>10104</td>\n",
              "      <td>Jones</td>\n",
              "      <td>jone.ai@yahoo.com</td>\n",
              "      <td>eagle lager</td>\n",
              "      <td>170</td>\n",
              "      <td>250</td>\n",
              "      <td>765</td>\n",
              "      <td>191250</td>\n",
              "      <td>61200</td>\n",
              "      <td>Benin</td>\n",
              "      <td>northwest</td>\n",
              "      <td>April</td>\n",
              "      <td>2018</td>\n",
              "    </tr>\n",
              "    <tr>\n",
              "      <th>4</th>\n",
              "      <td>10105</td>\n",
              "      <td>Andrews</td>\n",
              "      <td>andy@gmail.com</td>\n",
              "      <td>hero</td>\n",
              "      <td>150</td>\n",
              "      <td>200</td>\n",
              "      <td>836</td>\n",
              "      <td>167200</td>\n",
              "      <td>41800</td>\n",
              "      <td>Senegal</td>\n",
              "      <td>northeast</td>\n",
              "      <td>May</td>\n",
              "      <td>2017</td>\n",
              "    </tr>\n",
              "  </tbody>\n",
              "</table>\n",
              "</div>\n",
              "    <div class=\"colab-df-buttons\">\n",
              "\n",
              "  <div class=\"colab-df-container\">\n",
              "    <button class=\"colab-df-convert\" onclick=\"convertToInteractive('df-962f8812-bda3-4103-b9ee-a30cf12ea96e')\"\n",
              "            title=\"Convert this dataframe to an interactive table.\"\n",
              "            style=\"display:none;\">\n",
              "\n",
              "  <svg xmlns=\"http://www.w3.org/2000/svg\" height=\"24px\" viewBox=\"0 -960 960 960\">\n",
              "    <path d=\"M120-120v-720h720v720H120Zm60-500h600v-160H180v160Zm220 220h160v-160H400v160Zm0 220h160v-160H400v160ZM180-400h160v-160H180v160Zm440 0h160v-160H620v160ZM180-180h160v-160H180v160Zm440 0h160v-160H620v160Z\"/>\n",
              "  </svg>\n",
              "    </button>\n",
              "\n",
              "  <style>\n",
              "    .colab-df-container {\n",
              "      display:flex;\n",
              "      gap: 12px;\n",
              "    }\n",
              "\n",
              "    .colab-df-convert {\n",
              "      background-color: #E8F0FE;\n",
              "      border: none;\n",
              "      border-radius: 50%;\n",
              "      cursor: pointer;\n",
              "      display: none;\n",
              "      fill: #1967D2;\n",
              "      height: 32px;\n",
              "      padding: 0 0 0 0;\n",
              "      width: 32px;\n",
              "    }\n",
              "\n",
              "    .colab-df-convert:hover {\n",
              "      background-color: #E2EBFA;\n",
              "      box-shadow: 0px 1px 2px rgba(60, 64, 67, 0.3), 0px 1px 3px 1px rgba(60, 64, 67, 0.15);\n",
              "      fill: #174EA6;\n",
              "    }\n",
              "\n",
              "    .colab-df-buttons div {\n",
              "      margin-bottom: 4px;\n",
              "    }\n",
              "\n",
              "    [theme=dark] .colab-df-convert {\n",
              "      background-color: #3B4455;\n",
              "      fill: #D2E3FC;\n",
              "    }\n",
              "\n",
              "    [theme=dark] .colab-df-convert:hover {\n",
              "      background-color: #434B5C;\n",
              "      box-shadow: 0px 1px 3px 1px rgba(0, 0, 0, 0.15);\n",
              "      filter: drop-shadow(0px 1px 2px rgba(0, 0, 0, 0.3));\n",
              "      fill: #FFFFFF;\n",
              "    }\n",
              "  </style>\n",
              "\n",
              "    <script>\n",
              "      const buttonEl =\n",
              "        document.querySelector('#df-962f8812-bda3-4103-b9ee-a30cf12ea96e button.colab-df-convert');\n",
              "      buttonEl.style.display =\n",
              "        google.colab.kernel.accessAllowed ? 'block' : 'none';\n",
              "\n",
              "      async function convertToInteractive(key) {\n",
              "        const element = document.querySelector('#df-962f8812-bda3-4103-b9ee-a30cf12ea96e');\n",
              "        const dataTable =\n",
              "          await google.colab.kernel.invokeFunction('convertToInteractive',\n",
              "                                                    [key], {});\n",
              "        if (!dataTable) return;\n",
              "\n",
              "        const docLinkHtml = 'Like what you see? Visit the ' +\n",
              "          '<a target=\"_blank\" href=https://colab.research.google.com/notebooks/data_table.ipynb>data table notebook</a>'\n",
              "          + ' to learn more about interactive tables.';\n",
              "        element.innerHTML = '';\n",
              "        dataTable['output_type'] = 'display_data';\n",
              "        await google.colab.output.renderOutput(dataTable, element);\n",
              "        const docLink = document.createElement('div');\n",
              "        docLink.innerHTML = docLinkHtml;\n",
              "        element.appendChild(docLink);\n",
              "      }\n",
              "    </script>\n",
              "  </div>\n",
              "\n",
              "\n",
              "<div id=\"df-e95a1ef5-a0d5-4d33-b9e9-b2c4fa845289\">\n",
              "  <button class=\"colab-df-quickchart\" onclick=\"quickchart('df-e95a1ef5-a0d5-4d33-b9e9-b2c4fa845289')\"\n",
              "            title=\"Suggest charts\"\n",
              "            style=\"display:none;\">\n",
              "\n",
              "<svg xmlns=\"http://www.w3.org/2000/svg\" height=\"24px\"viewBox=\"0 0 24 24\"\n",
              "     width=\"24px\">\n",
              "    <g>\n",
              "        <path d=\"M19 3H5c-1.1 0-2 .9-2 2v14c0 1.1.9 2 2 2h14c1.1 0 2-.9 2-2V5c0-1.1-.9-2-2-2zM9 17H7v-7h2v7zm4 0h-2V7h2v10zm4 0h-2v-4h2v4z\"/>\n",
              "    </g>\n",
              "</svg>\n",
              "  </button>\n",
              "\n",
              "<style>\n",
              "  .colab-df-quickchart {\n",
              "      --bg-color: #E8F0FE;\n",
              "      --fill-color: #1967D2;\n",
              "      --hover-bg-color: #E2EBFA;\n",
              "      --hover-fill-color: #174EA6;\n",
              "      --disabled-fill-color: #AAA;\n",
              "      --disabled-bg-color: #DDD;\n",
              "  }\n",
              "\n",
              "  [theme=dark] .colab-df-quickchart {\n",
              "      --bg-color: #3B4455;\n",
              "      --fill-color: #D2E3FC;\n",
              "      --hover-bg-color: #434B5C;\n",
              "      --hover-fill-color: #FFFFFF;\n",
              "      --disabled-bg-color: #3B4455;\n",
              "      --disabled-fill-color: #666;\n",
              "  }\n",
              "\n",
              "  .colab-df-quickchart {\n",
              "    background-color: var(--bg-color);\n",
              "    border: none;\n",
              "    border-radius: 50%;\n",
              "    cursor: pointer;\n",
              "    display: none;\n",
              "    fill: var(--fill-color);\n",
              "    height: 32px;\n",
              "    padding: 0;\n",
              "    width: 32px;\n",
              "  }\n",
              "\n",
              "  .colab-df-quickchart:hover {\n",
              "    background-color: var(--hover-bg-color);\n",
              "    box-shadow: 0 1px 2px rgba(60, 64, 67, 0.3), 0 1px 3px 1px rgba(60, 64, 67, 0.15);\n",
              "    fill: var(--button-hover-fill-color);\n",
              "  }\n",
              "\n",
              "  .colab-df-quickchart-complete:disabled,\n",
              "  .colab-df-quickchart-complete:disabled:hover {\n",
              "    background-color: var(--disabled-bg-color);\n",
              "    fill: var(--disabled-fill-color);\n",
              "    box-shadow: none;\n",
              "  }\n",
              "\n",
              "  .colab-df-spinner {\n",
              "    border: 2px solid var(--fill-color);\n",
              "    border-color: transparent;\n",
              "    border-bottom-color: var(--fill-color);\n",
              "    animation:\n",
              "      spin 1s steps(1) infinite;\n",
              "  }\n",
              "\n",
              "  @keyframes spin {\n",
              "    0% {\n",
              "      border-color: transparent;\n",
              "      border-bottom-color: var(--fill-color);\n",
              "      border-left-color: var(--fill-color);\n",
              "    }\n",
              "    20% {\n",
              "      border-color: transparent;\n",
              "      border-left-color: var(--fill-color);\n",
              "      border-top-color: var(--fill-color);\n",
              "    }\n",
              "    30% {\n",
              "      border-color: transparent;\n",
              "      border-left-color: var(--fill-color);\n",
              "      border-top-color: var(--fill-color);\n",
              "      border-right-color: var(--fill-color);\n",
              "    }\n",
              "    40% {\n",
              "      border-color: transparent;\n",
              "      border-right-color: var(--fill-color);\n",
              "      border-top-color: var(--fill-color);\n",
              "    }\n",
              "    60% {\n",
              "      border-color: transparent;\n",
              "      border-right-color: var(--fill-color);\n",
              "    }\n",
              "    80% {\n",
              "      border-color: transparent;\n",
              "      border-right-color: var(--fill-color);\n",
              "      border-bottom-color: var(--fill-color);\n",
              "    }\n",
              "    90% {\n",
              "      border-color: transparent;\n",
              "      border-bottom-color: var(--fill-color);\n",
              "    }\n",
              "  }\n",
              "</style>\n",
              "\n",
              "  <script>\n",
              "    async function quickchart(key) {\n",
              "      const quickchartButtonEl =\n",
              "        document.querySelector('#' + key + ' button');\n",
              "      quickchartButtonEl.disabled = true;  // To prevent multiple clicks.\n",
              "      quickchartButtonEl.classList.add('colab-df-spinner');\n",
              "      try {\n",
              "        const charts = await google.colab.kernel.invokeFunction(\n",
              "            'suggestCharts', [key], {});\n",
              "      } catch (error) {\n",
              "        console.error('Error during call to suggestCharts:', error);\n",
              "      }\n",
              "      quickchartButtonEl.classList.remove('colab-df-spinner');\n",
              "      quickchartButtonEl.classList.add('colab-df-quickchart-complete');\n",
              "    }\n",
              "    (() => {\n",
              "      let quickchartButtonEl =\n",
              "        document.querySelector('#df-e95a1ef5-a0d5-4d33-b9e9-b2c4fa845289 button');\n",
              "      quickchartButtonEl.style.display =\n",
              "        google.colab.kernel.accessAllowed ? 'block' : 'none';\n",
              "    })();\n",
              "  </script>\n",
              "</div>\n",
              "\n",
              "    </div>\n",
              "  </div>\n"
            ],
            "application/vnd.google.colaboratory.intrinsic+json": {
              "type": "dataframe",
              "variable_name": "df",
              "summary": "{\n  \"name\": \"df\",\n  \"rows\": 1047,\n  \"fields\": [\n    {\n      \"column\": \"sales_id\",\n      \"properties\": {\n        \"dtype\": \"number\",\n        \"std\": 302,\n        \"min\": 10101,\n        \"max\": 11147,\n        \"num_unique_values\": 1047,\n        \"samples\": [\n          10453,\n          10661,\n          10975\n        ],\n        \"semantic_type\": \"\",\n        \"description\": \"\"\n      }\n    },\n    {\n      \"column\": \"sales_rep\",\n      \"properties\": {\n        \"dtype\": \"category\",\n        \"num_unique_values\": 11,\n        \"samples\": [\n          \"Thompson\",\n          \"Jardine\",\n          \"Smith\"\n        ],\n        \"semantic_type\": \"\",\n        \"description\": \"\"\n      }\n    },\n    {\n      \"column\": \"email\",\n      \"properties\": {\n        \"dtype\": \"category\",\n        \"num_unique_values\": 11,\n        \"samples\": [\n          \"thomp@uk.com\",\n          \"jard@gmail.com\",\n          \"smithMan@yahoo.com\"\n        ],\n        \"semantic_type\": \"\",\n        \"description\": \"\"\n      }\n    },\n    {\n      \"column\": \"brand\",\n      \"properties\": {\n        \"dtype\": \"category\",\n        \"num_unique_values\": 7,\n        \"samples\": [\n          \"trophy\",\n          \"budweiser\",\n          \"beta malt\"\n        ],\n        \"semantic_type\": \"\",\n        \"description\": \"\"\n      }\n    },\n    {\n      \"column\": \"plant_cost\",\n      \"properties\": {\n        \"dtype\": \"number\",\n        \"std\": 53,\n        \"min\": 80,\n        \"max\": 250,\n        \"num_unique_values\": 6,\n        \"samples\": [\n          150,\n          250,\n          90\n        ],\n        \"semantic_type\": \"\",\n        \"description\": \"\"\n      }\n    },\n    {\n      \"column\": \"unit_price\",\n      \"properties\": {\n        \"dtype\": \"number\",\n        \"std\": 133,\n        \"min\": 150,\n        \"max\": 500,\n        \"num_unique_values\": 5,\n        \"samples\": [\n          500,\n          150,\n          450\n        ],\n        \"semantic_type\": \"\",\n        \"description\": \"\"\n      }\n    },\n    {\n      \"column\": \"quantity\",\n      \"properties\": {\n        \"dtype\": \"number\",\n        \"std\": 86,\n        \"min\": 700,\n        \"max\": 1000,\n        \"num_unique_values\": 298,\n        \"samples\": [\n          818,\n          851,\n          793\n        ],\n        \"semantic_type\": \"\",\n        \"description\": \"\"\n      }\n    },\n    {\n      \"column\": \"cost\",\n      \"properties\": {\n        \"dtype\": \"number\",\n        \"std\": 115658,\n        \"min\": 105300,\n        \"max\": 499500,\n        \"num_unique_values\": 723,\n        \"samples\": [\n          480000,\n          121800,\n          138900\n        ],\n        \"semantic_type\": \"\",\n        \"description\": \"\"\n      }\n    },\n    {\n      \"column\": \"profit\",\n      \"properties\": {\n        \"dtype\": \"number\",\n        \"std\": 77581,\n        \"min\": 35000,\n        \"max\": 269190,\n        \"num_unique_values\": 762,\n        \"samples\": [\n          49100,\n          36200,\n          49620\n        ],\n        \"semantic_type\": \"\",\n        \"description\": \"\"\n      }\n    },\n    {\n      \"column\": \"country\",\n      \"properties\": {\n        \"dtype\": \"category\",\n        \"num_unique_values\": 5,\n        \"samples\": [\n          \"Nigeria\",\n          \"Senegal\",\n          \"Togo\"\n        ],\n        \"semantic_type\": \"\",\n        \"description\": \"\"\n      }\n    },\n    {\n      \"column\": \"region\",\n      \"properties\": {\n        \"dtype\": \"category\",\n        \"num_unique_values\": 6,\n        \"samples\": [\n          \"Southeast\",\n          \"west\",\n          \"northcentral\"\n        ],\n        \"semantic_type\": \"\",\n        \"description\": \"\"\n      }\n    },\n    {\n      \"column\": \"month\",\n      \"properties\": {\n        \"dtype\": \"category\",\n        \"num_unique_values\": 12,\n        \"samples\": [\n          \"November\",\n          \"October\",\n          \"January\"\n        ],\n        \"semantic_type\": \"\",\n        \"description\": \"\"\n      }\n    },\n    {\n      \"column\": \"year\",\n      \"properties\": {\n        \"dtype\": \"number\",\n        \"std\": 0,\n        \"min\": 2017,\n        \"max\": 2019,\n        \"num_unique_values\": 3,\n        \"samples\": [\n          2019,\n          2018,\n          2017\n        ],\n        \"semantic_type\": \"\",\n        \"description\": \"\"\n      }\n    }\n  ]\n}"
            }
          },
          "metadata": {},
          "execution_count": 4
        }
      ],
      "source": [
        "# update df columns with columns proper\n",
        "df.columns = columns_proper\n",
        "\n",
        "df.head()"
      ]
    },
    {
      "cell_type": "code",
      "execution_count": 5,
      "metadata": {
        "id": "r-WwfM4WDflg",
        "colab": {
          "base_uri": "https://localhost:8080/",
          "height": 206
        },
        "outputId": "6387b58a-356a-47b7-96de-dd7e30ca7f81"
      },
      "outputs": [
        {
          "output_type": "execute_result",
          "data": {
            "text/plain": [
              "   sales_id sales_rep                email        brand  plant_cost  \\\n",
              "0     10101   Jardine       jard@gmail.com       trophy         150   \n",
              "1     10102      Gill      gillhell@uk.com    budweiser         250   \n",
              "2     10103   Sorvino  sorvi2000@gmail.com  castle lite         180   \n",
              "3     10104     Jones    jone.ai@yahoo.com  eagle lager         170   \n",
              "4     10105   Andrews       andy@gmail.com         hero         150   \n",
              "\n",
              "   unit_price  quantity    cost  profit  country      region     month  year  \\\n",
              "0         200       725  145000   36250    Ghana   Southeast   January  2019   \n",
              "1         500       815  407500  203750  Nigeria        west  February  2018   \n",
              "2         450       937  421650  252990     Togo  southsouth     March  2018   \n",
              "3         250       765  191250   61200    Benin   northwest     April  2018   \n",
              "4         200       836  167200   41800  Senegal   northeast       May  2017   \n",
              "\n",
              "   month_num month_abbr  \n",
              "0          1        Jan  \n",
              "1          2        Feb  \n",
              "2          3        Mar  \n",
              "3          4        Apr  \n",
              "4          5        May  "
            ],
            "text/html": [
              "\n",
              "  <div id=\"df-6b4805f3-3cbf-47f2-baed-3b1738de1668\" class=\"colab-df-container\">\n",
              "    <div>\n",
              "<style scoped>\n",
              "    .dataframe tbody tr th:only-of-type {\n",
              "        vertical-align: middle;\n",
              "    }\n",
              "\n",
              "    .dataframe tbody tr th {\n",
              "        vertical-align: top;\n",
              "    }\n",
              "\n",
              "    .dataframe thead th {\n",
              "        text-align: right;\n",
              "    }\n",
              "</style>\n",
              "<table border=\"1\" class=\"dataframe\">\n",
              "  <thead>\n",
              "    <tr style=\"text-align: right;\">\n",
              "      <th></th>\n",
              "      <th>sales_id</th>\n",
              "      <th>sales_rep</th>\n",
              "      <th>email</th>\n",
              "      <th>brand</th>\n",
              "      <th>plant_cost</th>\n",
              "      <th>unit_price</th>\n",
              "      <th>quantity</th>\n",
              "      <th>cost</th>\n",
              "      <th>profit</th>\n",
              "      <th>country</th>\n",
              "      <th>region</th>\n",
              "      <th>month</th>\n",
              "      <th>year</th>\n",
              "      <th>month_num</th>\n",
              "      <th>month_abbr</th>\n",
              "    </tr>\n",
              "  </thead>\n",
              "  <tbody>\n",
              "    <tr>\n",
              "      <th>0</th>\n",
              "      <td>10101</td>\n",
              "      <td>Jardine</td>\n",
              "      <td>jard@gmail.com</td>\n",
              "      <td>trophy</td>\n",
              "      <td>150</td>\n",
              "      <td>200</td>\n",
              "      <td>725</td>\n",
              "      <td>145000</td>\n",
              "      <td>36250</td>\n",
              "      <td>Ghana</td>\n",
              "      <td>Southeast</td>\n",
              "      <td>January</td>\n",
              "      <td>2019</td>\n",
              "      <td>1</td>\n",
              "      <td>Jan</td>\n",
              "    </tr>\n",
              "    <tr>\n",
              "      <th>1</th>\n",
              "      <td>10102</td>\n",
              "      <td>Gill</td>\n",
              "      <td>gillhell@uk.com</td>\n",
              "      <td>budweiser</td>\n",
              "      <td>250</td>\n",
              "      <td>500</td>\n",
              "      <td>815</td>\n",
              "      <td>407500</td>\n",
              "      <td>203750</td>\n",
              "      <td>Nigeria</td>\n",
              "      <td>west</td>\n",
              "      <td>February</td>\n",
              "      <td>2018</td>\n",
              "      <td>2</td>\n",
              "      <td>Feb</td>\n",
              "    </tr>\n",
              "    <tr>\n",
              "      <th>2</th>\n",
              "      <td>10103</td>\n",
              "      <td>Sorvino</td>\n",
              "      <td>sorvi2000@gmail.com</td>\n",
              "      <td>castle lite</td>\n",
              "      <td>180</td>\n",
              "      <td>450</td>\n",
              "      <td>937</td>\n",
              "      <td>421650</td>\n",
              "      <td>252990</td>\n",
              "      <td>Togo</td>\n",
              "      <td>southsouth</td>\n",
              "      <td>March</td>\n",
              "      <td>2018</td>\n",
              "      <td>3</td>\n",
              "      <td>Mar</td>\n",
              "    </tr>\n",
              "    <tr>\n",
              "      <th>3</th>\n",
              "      <td>10104</td>\n",
              "      <td>Jones</td>\n",
              "      <td>jone.ai@yahoo.com</td>\n",
              "      <td>eagle lager</td>\n",
              "      <td>170</td>\n",
              "      <td>250</td>\n",
              "      <td>765</td>\n",
              "      <td>191250</td>\n",
              "      <td>61200</td>\n",
              "      <td>Benin</td>\n",
              "      <td>northwest</td>\n",
              "      <td>April</td>\n",
              "      <td>2018</td>\n",
              "      <td>4</td>\n",
              "      <td>Apr</td>\n",
              "    </tr>\n",
              "    <tr>\n",
              "      <th>4</th>\n",
              "      <td>10105</td>\n",
              "      <td>Andrews</td>\n",
              "      <td>andy@gmail.com</td>\n",
              "      <td>hero</td>\n",
              "      <td>150</td>\n",
              "      <td>200</td>\n",
              "      <td>836</td>\n",
              "      <td>167200</td>\n",
              "      <td>41800</td>\n",
              "      <td>Senegal</td>\n",
              "      <td>northeast</td>\n",
              "      <td>May</td>\n",
              "      <td>2017</td>\n",
              "      <td>5</td>\n",
              "      <td>May</td>\n",
              "    </tr>\n",
              "  </tbody>\n",
              "</table>\n",
              "</div>\n",
              "    <div class=\"colab-df-buttons\">\n",
              "\n",
              "  <div class=\"colab-df-container\">\n",
              "    <button class=\"colab-df-convert\" onclick=\"convertToInteractive('df-6b4805f3-3cbf-47f2-baed-3b1738de1668')\"\n",
              "            title=\"Convert this dataframe to an interactive table.\"\n",
              "            style=\"display:none;\">\n",
              "\n",
              "  <svg xmlns=\"http://www.w3.org/2000/svg\" height=\"24px\" viewBox=\"0 -960 960 960\">\n",
              "    <path d=\"M120-120v-720h720v720H120Zm60-500h600v-160H180v160Zm220 220h160v-160H400v160Zm0 220h160v-160H400v160ZM180-400h160v-160H180v160Zm440 0h160v-160H620v160ZM180-180h160v-160H180v160Zm440 0h160v-160H620v160Z\"/>\n",
              "  </svg>\n",
              "    </button>\n",
              "\n",
              "  <style>\n",
              "    .colab-df-container {\n",
              "      display:flex;\n",
              "      gap: 12px;\n",
              "    }\n",
              "\n",
              "    .colab-df-convert {\n",
              "      background-color: #E8F0FE;\n",
              "      border: none;\n",
              "      border-radius: 50%;\n",
              "      cursor: pointer;\n",
              "      display: none;\n",
              "      fill: #1967D2;\n",
              "      height: 32px;\n",
              "      padding: 0 0 0 0;\n",
              "      width: 32px;\n",
              "    }\n",
              "\n",
              "    .colab-df-convert:hover {\n",
              "      background-color: #E2EBFA;\n",
              "      box-shadow: 0px 1px 2px rgba(60, 64, 67, 0.3), 0px 1px 3px 1px rgba(60, 64, 67, 0.15);\n",
              "      fill: #174EA6;\n",
              "    }\n",
              "\n",
              "    .colab-df-buttons div {\n",
              "      margin-bottom: 4px;\n",
              "    }\n",
              "\n",
              "    [theme=dark] .colab-df-convert {\n",
              "      background-color: #3B4455;\n",
              "      fill: #D2E3FC;\n",
              "    }\n",
              "\n",
              "    [theme=dark] .colab-df-convert:hover {\n",
              "      background-color: #434B5C;\n",
              "      box-shadow: 0px 1px 3px 1px rgba(0, 0, 0, 0.15);\n",
              "      filter: drop-shadow(0px 1px 2px rgba(0, 0, 0, 0.3));\n",
              "      fill: #FFFFFF;\n",
              "    }\n",
              "  </style>\n",
              "\n",
              "    <script>\n",
              "      const buttonEl =\n",
              "        document.querySelector('#df-6b4805f3-3cbf-47f2-baed-3b1738de1668 button.colab-df-convert');\n",
              "      buttonEl.style.display =\n",
              "        google.colab.kernel.accessAllowed ? 'block' : 'none';\n",
              "\n",
              "      async function convertToInteractive(key) {\n",
              "        const element = document.querySelector('#df-6b4805f3-3cbf-47f2-baed-3b1738de1668');\n",
              "        const dataTable =\n",
              "          await google.colab.kernel.invokeFunction('convertToInteractive',\n",
              "                                                    [key], {});\n",
              "        if (!dataTable) return;\n",
              "\n",
              "        const docLinkHtml = 'Like what you see? Visit the ' +\n",
              "          '<a target=\"_blank\" href=https://colab.research.google.com/notebooks/data_table.ipynb>data table notebook</a>'\n",
              "          + ' to learn more about interactive tables.';\n",
              "        element.innerHTML = '';\n",
              "        dataTable['output_type'] = 'display_data';\n",
              "        await google.colab.output.renderOutput(dataTable, element);\n",
              "        const docLink = document.createElement('div');\n",
              "        docLink.innerHTML = docLinkHtml;\n",
              "        element.appendChild(docLink);\n",
              "      }\n",
              "    </script>\n",
              "  </div>\n",
              "\n",
              "\n",
              "<div id=\"df-a579dda4-65a5-423f-a00b-208d6d4ae6e9\">\n",
              "  <button class=\"colab-df-quickchart\" onclick=\"quickchart('df-a579dda4-65a5-423f-a00b-208d6d4ae6e9')\"\n",
              "            title=\"Suggest charts\"\n",
              "            style=\"display:none;\">\n",
              "\n",
              "<svg xmlns=\"http://www.w3.org/2000/svg\" height=\"24px\"viewBox=\"0 0 24 24\"\n",
              "     width=\"24px\">\n",
              "    <g>\n",
              "        <path d=\"M19 3H5c-1.1 0-2 .9-2 2v14c0 1.1.9 2 2 2h14c1.1 0 2-.9 2-2V5c0-1.1-.9-2-2-2zM9 17H7v-7h2v7zm4 0h-2V7h2v10zm4 0h-2v-4h2v4z\"/>\n",
              "    </g>\n",
              "</svg>\n",
              "  </button>\n",
              "\n",
              "<style>\n",
              "  .colab-df-quickchart {\n",
              "      --bg-color: #E8F0FE;\n",
              "      --fill-color: #1967D2;\n",
              "      --hover-bg-color: #E2EBFA;\n",
              "      --hover-fill-color: #174EA6;\n",
              "      --disabled-fill-color: #AAA;\n",
              "      --disabled-bg-color: #DDD;\n",
              "  }\n",
              "\n",
              "  [theme=dark] .colab-df-quickchart {\n",
              "      --bg-color: #3B4455;\n",
              "      --fill-color: #D2E3FC;\n",
              "      --hover-bg-color: #434B5C;\n",
              "      --hover-fill-color: #FFFFFF;\n",
              "      --disabled-bg-color: #3B4455;\n",
              "      --disabled-fill-color: #666;\n",
              "  }\n",
              "\n",
              "  .colab-df-quickchart {\n",
              "    background-color: var(--bg-color);\n",
              "    border: none;\n",
              "    border-radius: 50%;\n",
              "    cursor: pointer;\n",
              "    display: none;\n",
              "    fill: var(--fill-color);\n",
              "    height: 32px;\n",
              "    padding: 0;\n",
              "    width: 32px;\n",
              "  }\n",
              "\n",
              "  .colab-df-quickchart:hover {\n",
              "    background-color: var(--hover-bg-color);\n",
              "    box-shadow: 0 1px 2px rgba(60, 64, 67, 0.3), 0 1px 3px 1px rgba(60, 64, 67, 0.15);\n",
              "    fill: var(--button-hover-fill-color);\n",
              "  }\n",
              "\n",
              "  .colab-df-quickchart-complete:disabled,\n",
              "  .colab-df-quickchart-complete:disabled:hover {\n",
              "    background-color: var(--disabled-bg-color);\n",
              "    fill: var(--disabled-fill-color);\n",
              "    box-shadow: none;\n",
              "  }\n",
              "\n",
              "  .colab-df-spinner {\n",
              "    border: 2px solid var(--fill-color);\n",
              "    border-color: transparent;\n",
              "    border-bottom-color: var(--fill-color);\n",
              "    animation:\n",
              "      spin 1s steps(1) infinite;\n",
              "  }\n",
              "\n",
              "  @keyframes spin {\n",
              "    0% {\n",
              "      border-color: transparent;\n",
              "      border-bottom-color: var(--fill-color);\n",
              "      border-left-color: var(--fill-color);\n",
              "    }\n",
              "    20% {\n",
              "      border-color: transparent;\n",
              "      border-left-color: var(--fill-color);\n",
              "      border-top-color: var(--fill-color);\n",
              "    }\n",
              "    30% {\n",
              "      border-color: transparent;\n",
              "      border-left-color: var(--fill-color);\n",
              "      border-top-color: var(--fill-color);\n",
              "      border-right-color: var(--fill-color);\n",
              "    }\n",
              "    40% {\n",
              "      border-color: transparent;\n",
              "      border-right-color: var(--fill-color);\n",
              "      border-top-color: var(--fill-color);\n",
              "    }\n",
              "    60% {\n",
              "      border-color: transparent;\n",
              "      border-right-color: var(--fill-color);\n",
              "    }\n",
              "    80% {\n",
              "      border-color: transparent;\n",
              "      border-right-color: var(--fill-color);\n",
              "      border-bottom-color: var(--fill-color);\n",
              "    }\n",
              "    90% {\n",
              "      border-color: transparent;\n",
              "      border-bottom-color: var(--fill-color);\n",
              "    }\n",
              "  }\n",
              "</style>\n",
              "\n",
              "  <script>\n",
              "    async function quickchart(key) {\n",
              "      const quickchartButtonEl =\n",
              "        document.querySelector('#' + key + ' button');\n",
              "      quickchartButtonEl.disabled = true;  // To prevent multiple clicks.\n",
              "      quickchartButtonEl.classList.add('colab-df-spinner');\n",
              "      try {\n",
              "        const charts = await google.colab.kernel.invokeFunction(\n",
              "            'suggestCharts', [key], {});\n",
              "      } catch (error) {\n",
              "        console.error('Error during call to suggestCharts:', error);\n",
              "      }\n",
              "      quickchartButtonEl.classList.remove('colab-df-spinner');\n",
              "      quickchartButtonEl.classList.add('colab-df-quickchart-complete');\n",
              "    }\n",
              "    (() => {\n",
              "      let quickchartButtonEl =\n",
              "        document.querySelector('#df-a579dda4-65a5-423f-a00b-208d6d4ae6e9 button');\n",
              "      quickchartButtonEl.style.display =\n",
              "        google.colab.kernel.accessAllowed ? 'block' : 'none';\n",
              "    })();\n",
              "  </script>\n",
              "</div>\n",
              "\n",
              "    </div>\n",
              "  </div>\n"
            ],
            "application/vnd.google.colaboratory.intrinsic+json": {
              "type": "dataframe",
              "variable_name": "df",
              "summary": "{\n  \"name\": \"df\",\n  \"rows\": 1047,\n  \"fields\": [\n    {\n      \"column\": \"sales_id\",\n      \"properties\": {\n        \"dtype\": \"number\",\n        \"std\": 302,\n        \"min\": 10101,\n        \"max\": 11147,\n        \"num_unique_values\": 1047,\n        \"samples\": [\n          10453,\n          10661,\n          10975\n        ],\n        \"semantic_type\": \"\",\n        \"description\": \"\"\n      }\n    },\n    {\n      \"column\": \"sales_rep\",\n      \"properties\": {\n        \"dtype\": \"category\",\n        \"num_unique_values\": 11,\n        \"samples\": [\n          \"Thompson\",\n          \"Jardine\",\n          \"Smith\"\n        ],\n        \"semantic_type\": \"\",\n        \"description\": \"\"\n      }\n    },\n    {\n      \"column\": \"email\",\n      \"properties\": {\n        \"dtype\": \"category\",\n        \"num_unique_values\": 11,\n        \"samples\": [\n          \"thomp@uk.com\",\n          \"jard@gmail.com\",\n          \"smithMan@yahoo.com\"\n        ],\n        \"semantic_type\": \"\",\n        \"description\": \"\"\n      }\n    },\n    {\n      \"column\": \"brand\",\n      \"properties\": {\n        \"dtype\": \"category\",\n        \"num_unique_values\": 7,\n        \"samples\": [\n          \"trophy\",\n          \"budweiser\",\n          \"beta malt\"\n        ],\n        \"semantic_type\": \"\",\n        \"description\": \"\"\n      }\n    },\n    {\n      \"column\": \"plant_cost\",\n      \"properties\": {\n        \"dtype\": \"number\",\n        \"std\": 53,\n        \"min\": 80,\n        \"max\": 250,\n        \"num_unique_values\": 6,\n        \"samples\": [\n          150,\n          250,\n          90\n        ],\n        \"semantic_type\": \"\",\n        \"description\": \"\"\n      }\n    },\n    {\n      \"column\": \"unit_price\",\n      \"properties\": {\n        \"dtype\": \"number\",\n        \"std\": 133,\n        \"min\": 150,\n        \"max\": 500,\n        \"num_unique_values\": 5,\n        \"samples\": [\n          500,\n          150,\n          450\n        ],\n        \"semantic_type\": \"\",\n        \"description\": \"\"\n      }\n    },\n    {\n      \"column\": \"quantity\",\n      \"properties\": {\n        \"dtype\": \"number\",\n        \"std\": 86,\n        \"min\": 700,\n        \"max\": 1000,\n        \"num_unique_values\": 298,\n        \"samples\": [\n          818,\n          851,\n          793\n        ],\n        \"semantic_type\": \"\",\n        \"description\": \"\"\n      }\n    },\n    {\n      \"column\": \"cost\",\n      \"properties\": {\n        \"dtype\": \"number\",\n        \"std\": 115658,\n        \"min\": 105300,\n        \"max\": 499500,\n        \"num_unique_values\": 723,\n        \"samples\": [\n          480000,\n          121800,\n          138900\n        ],\n        \"semantic_type\": \"\",\n        \"description\": \"\"\n      }\n    },\n    {\n      \"column\": \"profit\",\n      \"properties\": {\n        \"dtype\": \"number\",\n        \"std\": 77581,\n        \"min\": 35000,\n        \"max\": 269190,\n        \"num_unique_values\": 762,\n        \"samples\": [\n          49100,\n          36200,\n          49620\n        ],\n        \"semantic_type\": \"\",\n        \"description\": \"\"\n      }\n    },\n    {\n      \"column\": \"country\",\n      \"properties\": {\n        \"dtype\": \"category\",\n        \"num_unique_values\": 5,\n        \"samples\": [\n          \"Nigeria\",\n          \"Senegal\",\n          \"Togo\"\n        ],\n        \"semantic_type\": \"\",\n        \"description\": \"\"\n      }\n    },\n    {\n      \"column\": \"region\",\n      \"properties\": {\n        \"dtype\": \"category\",\n        \"num_unique_values\": 6,\n        \"samples\": [\n          \"Southeast\",\n          \"west\",\n          \"northcentral\"\n        ],\n        \"semantic_type\": \"\",\n        \"description\": \"\"\n      }\n    },\n    {\n      \"column\": \"month\",\n      \"properties\": {\n        \"dtype\": \"category\",\n        \"num_unique_values\": 12,\n        \"samples\": [\n          \"November\",\n          \"October\",\n          \"January\"\n        ],\n        \"semantic_type\": \"\",\n        \"description\": \"\"\n      }\n    },\n    {\n      \"column\": \"year\",\n      \"properties\": {\n        \"dtype\": \"number\",\n        \"std\": 0,\n        \"min\": 2017,\n        \"max\": 2019,\n        \"num_unique_values\": 3,\n        \"samples\": [\n          2019,\n          2018,\n          2017\n        ],\n        \"semantic_type\": \"\",\n        \"description\": \"\"\n      }\n    },\n    {\n      \"column\": \"month_num\",\n      \"properties\": {\n        \"dtype\": \"int32\",\n        \"num_unique_values\": 12,\n        \"samples\": [\n          11,\n          10,\n          1\n        ],\n        \"semantic_type\": \"\",\n        \"description\": \"\"\n      }\n    },\n    {\n      \"column\": \"month_abbr\",\n      \"properties\": {\n        \"dtype\": \"category\",\n        \"num_unique_values\": 12,\n        \"samples\": [\n          \"Nov\",\n          \"Oct\",\n          \"Jan\"\n        ],\n        \"semantic_type\": \"\",\n        \"description\": \"\"\n      }\n    }\n  ]\n}"
            }
          },
          "metadata": {},
          "execution_count": 5
        }
      ],
      "source": [
        "# create month number and month abbreviated feature\n",
        "\n",
        "# month number\n",
        "df['month_num'] = pd.to_datetime(df['month'], format='%B').dt.month\n",
        "\n",
        "# month abbreviated\n",
        "df['month_abbr'] = df['month_num'].apply(lambda x : calendar.month_abbr[x])\n",
        "\n",
        "df.head()"
      ]
    },
    {
      "cell_type": "code",
      "execution_count": 6,
      "metadata": {
        "id": "upzjM7PTWrKf",
        "colab": {
          "base_uri": "https://localhost:8080/",
          "height": 178
        },
        "outputId": "04596a11-b5f6-42fd-e2ed-ffdf1aeacb1f"
      },
      "outputs": [
        {
          "output_type": "execute_result",
          "data": {
            "text/plain": [
              "territory\n",
              "francophone    627\n",
              "anglophone     420\n",
              "Name: count, dtype: int64"
            ],
            "text/html": [
              "<div>\n",
              "<style scoped>\n",
              "    .dataframe tbody tr th:only-of-type {\n",
              "        vertical-align: middle;\n",
              "    }\n",
              "\n",
              "    .dataframe tbody tr th {\n",
              "        vertical-align: top;\n",
              "    }\n",
              "\n",
              "    .dataframe thead th {\n",
              "        text-align: right;\n",
              "    }\n",
              "</style>\n",
              "<table border=\"1\" class=\"dataframe\">\n",
              "  <thead>\n",
              "    <tr style=\"text-align: right;\">\n",
              "      <th></th>\n",
              "      <th>count</th>\n",
              "    </tr>\n",
              "    <tr>\n",
              "      <th>territory</th>\n",
              "      <th></th>\n",
              "    </tr>\n",
              "  </thead>\n",
              "  <tbody>\n",
              "    <tr>\n",
              "      <th>francophone</th>\n",
              "      <td>627</td>\n",
              "    </tr>\n",
              "    <tr>\n",
              "      <th>anglophone</th>\n",
              "      <td>420</td>\n",
              "    </tr>\n",
              "  </tbody>\n",
              "</table>\n",
              "</div><br><label><b>dtype:</b> int64</label>"
            ]
          },
          "metadata": {},
          "execution_count": 6
        }
      ],
      "source": [
        "# Generate new feature tp classify countries as either anglophone or francophone\n",
        "df['country'].unique()\n",
        "# array(['Ghana', 'Nigeria', 'Togo', 'Benin', 'Senegal'], dtype=object)\n",
        "\n",
        "# based on research\n",
        "anglophone_countries = [\"The Gambia\", \"Sierra Leone\", \"Liberia\", \"Ghana\", \"Nigeria\"]\n",
        "francophone_countries = [\"Senegal\", \"Guinea-Bissau\", \"Guinea\", \"Ivory Coast\", \"Mali\", \"Togo\", \"Benin\", \"Burkina Faso\", \"Niger\", \"Chad\"]\n",
        "anglophone_and_francophone_countries = ['Cameroon']\n",
        "\n",
        "# unique value for language_class column\n",
        "territories = ['anglophone', 'francophone', 'anglophone_and_francophone']\n",
        "\n",
        "# create country class query string to be used with np.select\n",
        "anglophone_query_str = '|'.join(anglophone_countries)\n",
        "francophone_query_str = '|'.join(francophone_countries)\n",
        "anglophone_and_francophone_query_str = '|'.join(anglophone_and_francophone_countries)\n",
        "\n",
        "# classification list quering individual country name in df.country using query string (boolean series)\n",
        "territory_condition = [\n",
        "    (df['country'].str.contains(anglophone_query_str)),\n",
        "    (df['country'].str.contains(francophone_query_str)),\n",
        "    (df['country'].str.contains(anglophone_and_francophone_query_str))\n",
        "]\n",
        "\n",
        "df['territory'] = np.select(territory_condition, territories, default='other')\n",
        "\n",
        "\n",
        "df['territory'].value_counts()"
      ]
    },
    {
      "cell_type": "code",
      "source": [
        "# classify drinks as either malt or not\n",
        "\n",
        "df['is_malt'] = df['brand'].str.lower().str.contains('malt').apply(lambda x : 1 if x else 0)\n",
        "\n",
        "df['is_malt'].value_counts()\n",
        "# df['brand'].value_counts()\n"
      ],
      "metadata": {
        "id": "TU2ZWtTfO978",
        "colab": {
          "base_uri": "https://localhost:8080/",
          "height": 178
        },
        "outputId": "844ddf2c-d54b-428e-8a81-f05aaae4ff7f"
      },
      "execution_count": 7,
      "outputs": [
        {
          "output_type": "execute_result",
          "data": {
            "text/plain": [
              "is_malt\n",
              "0    749\n",
              "1    298\n",
              "Name: count, dtype: int64"
            ],
            "text/html": [
              "<div>\n",
              "<style scoped>\n",
              "    .dataframe tbody tr th:only-of-type {\n",
              "        vertical-align: middle;\n",
              "    }\n",
              "\n",
              "    .dataframe tbody tr th {\n",
              "        vertical-align: top;\n",
              "    }\n",
              "\n",
              "    .dataframe thead th {\n",
              "        text-align: right;\n",
              "    }\n",
              "</style>\n",
              "<table border=\"1\" class=\"dataframe\">\n",
              "  <thead>\n",
              "    <tr style=\"text-align: right;\">\n",
              "      <th></th>\n",
              "      <th>count</th>\n",
              "    </tr>\n",
              "    <tr>\n",
              "      <th>is_malt</th>\n",
              "      <th></th>\n",
              "    </tr>\n",
              "  </thead>\n",
              "  <tbody>\n",
              "    <tr>\n",
              "      <th>0</th>\n",
              "      <td>749</td>\n",
              "    </tr>\n",
              "    <tr>\n",
              "      <th>1</th>\n",
              "      <td>298</td>\n",
              "    </tr>\n",
              "  </tbody>\n",
              "</table>\n",
              "</div><br><label><b>dtype:</b> int64</label>"
            ]
          },
          "metadata": {},
          "execution_count": 7
        }
      ]
    },
    {
      "cell_type": "code",
      "execution_count": 8,
      "metadata": {
        "id": "Zuen43WQgFmy",
        "colab": {
          "base_uri": "https://localhost:8080/"
        },
        "outputId": "653d0189-9c18-4ef6-d99a-251b26fc8f1c"
      },
      "outputs": [
        {
          "output_type": "execute_result",
          "data": {
            "text/plain": [
              "True"
            ]
          },
          "metadata": {},
          "execution_count": 8
        }
      ],
      "source": [
        "# verify profit column values\n",
        "(df['profit'] == df['cost'] - (df['plant_cost'] * df['quantity'])).sum() == df.shape[0]"
      ]
    },
    {
      "cell_type": "markdown",
      "metadata": {
        "id": "WIPHLA1RWxcq"
      },
      "source": [
        "### 1. Within the space of the last three years, what was the profit worth of the breweries, inclusive of the anglophone and the francophone territories?"
      ]
    },
    {
      "cell_type": "code",
      "execution_count": 9,
      "metadata": {
        "id": "90bToPi0oF8I",
        "colab": {
          "base_uri": "https://localhost:8080/"
        },
        "outputId": "7cb02ce8-8215-4203-bed4-24c375960ae5"
      },
      "outputs": [
        {
          "output_type": "stream",
          "name": "stdout",
          "text": [
            "total profit worth over the past 3 years is 105587420\n"
          ]
        }
      ],
      "source": [
        "# dataset spans only 3 years\n",
        "df['year'].value_counts()\n",
        "\n",
        "total_profit_worth = df['profit'].sum()\n",
        "\n",
        "print('total profit worth over the past 3 years is', total_profit_worth)"
      ]
    },
    {
      "cell_type": "markdown",
      "metadata": {
        "id": "n5gCi1t4q6PD"
      },
      "source": [
        "### 2. Compare the total profit between these two territories (anglophone vs francophone) in order for the territory manager, Mr. Stone make a strategic decision that will aid profit maximization in 2020."
      ]
    },
    {
      "cell_type": "code",
      "execution_count": 10,
      "metadata": {
        "id": "URp9QqqTq11U",
        "colab": {
          "base_uri": "https://localhost:8080/"
        },
        "outputId": "ccdf86d7-33f8-4903-ef41-6520281d395e"
      },
      "outputs": [
        {
          "output_type": "stream",
          "name": "stdout",
          "text": [
            "             total_profit\n",
            "territory                \n",
            "anglophone       42389260\n",
            "francophone      63198160\n",
            "\n"
          ]
        }
      ],
      "source": [
        "# total profit for each territories\n",
        "total_profit_by_territory = df.groupby('territory')['profit'].agg(total_profit='sum')\n",
        "\n",
        "print(total_profit_by_territory)\n",
        "\n",
        "print()"
      ]
    },
    {
      "cell_type": "markdown",
      "metadata": {
        "id": "LfjqbZfNxCx_"
      },
      "source": [
        "### 3. What country generated the highest profit in 2019?"
      ]
    },
    {
      "cell_type": "code",
      "execution_count": 11,
      "metadata": {
        "id": "3I2kYOnEu81G",
        "colab": {
          "base_uri": "https://localhost:8080/"
        },
        "outputId": "1b0415e5-052f-4073-84f0-d91653eeca2d"
      },
      "outputs": [
        {
          "output_type": "stream",
          "name": "stdout",
          "text": [
            "   country  total_profit_2019\n",
            "0    Ghana            7144070\n",
            "1  Senegal            6687560\n",
            "2     Togo            6109960\n",
            "3    Benin            5273340\n",
            "4  Nigeria            4805320 \n",
            "\n",
            "Ghana generated the highest profit which was 7144070\n"
          ]
        }
      ],
      "source": [
        "# country with the highest profit in 2019\n",
        "total_profit_by_territory_2019 = df[df['year'] == 2019].groupby('country')['profit'].agg(total_profit_2019='sum').sort_values(by='total_profit_2019', ascending=False).reset_index()\n",
        "\n",
        "\n",
        "\n",
        "print(total_profit_by_territory_2019, '\\n')\n",
        "\n",
        "max_total_profit_by_territory_2019 = total_profit_by_territory_2019.iloc[0]\n",
        "\n",
        "print(max_total_profit_by_territory_2019['country'], 'generated the highest profit which was', max_total_profit_by_territory_2019['total_profit_2019'])"
      ]
    },
    {
      "cell_type": "markdown",
      "metadata": {
        "id": "mc1ndb4H3S_V"
      },
      "source": [
        "### 4. What year saw the highest profit?"
      ]
    },
    {
      "cell_type": "code",
      "execution_count": 12,
      "metadata": {
        "id": "XpVbOEVE2pt-",
        "colab": {
          "base_uri": "https://localhost:8080/"
        },
        "outputId": "3f890883-f28a-4620-8def-6ec13332204f"
      },
      "outputs": [
        {
          "output_type": "stream",
          "name": "stdout",
          "text": [
            "2017 saw the highest profit out of the three.\n"
          ]
        }
      ],
      "source": [
        "# max of profit by year\n",
        "year_with_highest_profit = df.groupby('year')['profit'].agg(total_profit='sum').sort_values(by='total_profit', ascending=False).index[0]\n",
        "\n",
        "print(year_with_highest_profit, 'saw the highest profit out of the three.')"
      ]
    },
    {
      "cell_type": "markdown",
      "metadata": {
        "id": "2ZrMPmKeRR-J"
      },
      "source": [
        "### 5. Which month in the three years was the least profit generated?"
      ]
    },
    {
      "cell_type": "code",
      "execution_count": 13,
      "metadata": {
        "id": "O4-M8Uh6Rge7",
        "colab": {
          "base_uri": "https://localhost:8080/"
        },
        "outputId": "671e977a-d2e3-4020-cc1f-5cbcb534512a"
      },
      "outputs": [
        {
          "output_type": "stream",
          "name": "stdout",
          "text": [
            "February 2019 saw the lowest profit.\n"
          ]
        }
      ],
      "source": [
        "# month with the least profit.\n",
        "month_year_lowest_profit = df.groupby(['year', 'month'])['profit'].agg(total_profit='sum').sort_values(ascending=True, by='total_profit').index[0]\n",
        "df.groupby(['year', 'month'])['profit'].agg(total_profit='sum').sort_values(ascending=True, by='total_profit')\n",
        "\n",
        "print(month_year_lowest_profit[1], month_year_lowest_profit[0], 'saw the lowest profit.')"
      ]
    },
    {
      "cell_type": "markdown",
      "metadata": {
        "id": "IGb1K-CNVfdj"
      },
      "source": [
        "### What was the minimum profit in the month of December 2018?"
      ]
    },
    {
      "cell_type": "code",
      "execution_count": 14,
      "metadata": {
        "id": "cCd6O58RUWt7",
        "colab": {
          "base_uri": "https://localhost:8080/"
        },
        "outputId": "5155d6bb-0469-46e3-a74e-7b940639ca43"
      },
      "outputs": [
        {
          "output_type": "stream",
          "name": "stdout",
          "text": [
            "The minimum profit for December 2018, which is 38150 from supplying Hero was made by Jones.\n"
          ]
        }
      ],
      "source": [
        "# minimum profit in the month of December 2018?\n",
        "min_profit_dec_2019 = df[(df['year'] == 2018) & (df['month'] == 'December')][['sales_rep', 'brand', 'profit']].sort_values(by='profit', ascending=True).iloc[0]\n",
        "\n",
        "sales_rep, brand, profit = min_profit_dec_2019\n",
        "\n",
        "print(f'The minimum profit for December 2018, which is {profit} from supplying {brand.capitalize()} was made by {sales_rep}.')"
      ]
    },
    {
      "cell_type": "markdown",
      "metadata": {
        "id": "0DYdKCL_PaJo"
      },
      "source": [
        "### 7. Compare the profit in percentage for each of the months in 2019"
      ]
    },
    {
      "cell_type": "code",
      "execution_count": 15,
      "metadata": {
        "id": "0bOUhzazcEva",
        "colab": {
          "base_uri": "https://localhost:8080/"
        },
        "outputId": "52a7c22c-86aa-4468-a939-6fa1ebf2f678"
      },
      "outputs": [
        {
          "output_type": "stream",
          "name": "stdout",
          "text": [
            "           pct_profit\n",
            "month                \n",
            "January         42.89\n",
            "February        43.77\n",
            "March           42.40\n",
            "April           44.77\n",
            "May             39.78\n",
            "June            45.95\n",
            "July            43.02\n",
            "August          39.93\n",
            "September       43.50\n",
            "October         46.65\n",
            "November        43.50\n",
            "December        48.13\n"
          ]
        }
      ],
      "source": [
        "total_profit_cost_2018 = df[df['year'] == 2018].groupby('month').agg(month_num=('month_num', 'first'), total_cost=('cost','sum'), total_profit=('profit', 'sum')).sort_values(by='month_num')\n",
        "\n",
        "total_profit_cost_2018['pct_profit'] = (total_profit_cost_2018['total_profit'] / total_profit_cost_2018['total_cost'] * 100).round(2)\n",
        "\n",
        "print(total_profit_cost_2018[['pct_profit']])"
      ]
    },
    {
      "cell_type": "markdown",
      "metadata": {
        "id": "oWDnSVtjYG7n"
      },
      "source": [
        "### 8. Which particular brand generated the highest profit in Senegal?"
      ]
    },
    {
      "cell_type": "code",
      "execution_count": 16,
      "metadata": {
        "id": "ncri_UdAYD95",
        "colab": {
          "base_uri": "https://localhost:8080/"
        },
        "outputId": "8368f775-69e2-4711-e51d-d14d9b932578"
      },
      "outputs": [
        {
          "output_type": "stream",
          "name": "stdout",
          "text": [
            "Castle lite had the highest profit in Senegal\n"
          ]
        }
      ],
      "source": [
        "# 8. Which particular brand generated the highest profit in Senegal?\n",
        "max_profit_brand_senegal = df[df['country'] == 'Senegal'].groupby('brand')['profit'].agg(total_profit=('sum')).sort_values(by='total_profit', ascending=False).index[0]\n",
        "# df[df['country'] == 'Senegal'].groupby('brand')['profit'].sum().sort_values( ascending=False)[0]\n",
        "\n",
        "print(max_profit_brand_senegal.capitalize(), 'had the highest profit in Senegal')"
      ]
    },
    {
      "cell_type": "markdown",
      "metadata": {
        "id": "GfAlysZzmlqB"
      },
      "source": [
        "## SECTION B: BRAND ANALYSIS"
      ]
    },
    {
      "cell_type": "markdown",
      "source": [
        "### 1. Within the last two years, what are the top three brands consumed in the francophone countries?"
      ],
      "metadata": {
        "id": "6MAWlLmuJigG"
      }
    },
    {
      "cell_type": "code",
      "source": [
        "# last two years\n",
        "last_two_years = df['year'].value_counts().sort_index(ascending=False).head(2).index.to_list()\n",
        "print('last two years are:')\n",
        "for year in last_two_years: print(year)\n",
        "\n",
        "# top 3 sold/consumed brands in francophone countries in the last two years\n",
        "top_brands_sold_frnc_18_19 = df[(df['year'].isin(last_two_years)) & (df['territory'] == 'francophone')].groupby('brand')['quantity'] \\\n",
        "    .agg(unit_sold='sum').sort_values(by='unit_sold', ascending=False).head(3).reset_index().set_index(pd.Index(range(1,4)))\n",
        "\n",
        "print('\\n','top three brands sold in francophone countries during this period:', '\\n', top_brands_sold_frnc_18_19)"
      ],
      "metadata": {
        "id": "qeoP-MbtJvcu",
        "colab": {
          "base_uri": "https://localhost:8080/"
        },
        "outputId": "09633a78-8fec-480b-a2d9-ea03088a95d5"
      },
      "execution_count": 17,
      "outputs": [
        {
          "output_type": "stream",
          "name": "stdout",
          "text": [
            "last two years are:\n",
            "2019\n",
            "2018\n",
            "\n",
            " top three brands sold in francophone countries during this period: \n",
            "          brand  unit_sold\n",
            "1       trophy      52899\n",
            "2         hero      50846\n",
            "3  eagle lager      50630\n"
          ]
        }
      ]
    },
    {
      "cell_type": "markdown",
      "source": [
        "### 2. What are the top two choices of consumer brands in Ghana?"
      ],
      "metadata": {
        "id": "FNvakQTZXk9p"
      }
    },
    {
      "cell_type": "code",
      "source": [
        "top_brands_ghana = df[df['country'] == 'Ghana'].groupby('brand')['quantity'].agg(unit_sold='sum').sort_values(by='unit_sold', ascending=False).head(2) \\\n",
        "    .reset_index().set_index(pd.Index(range(1,3)))\n",
        "\n",
        "print('The top two brand choices in Ghana:', '\\n')\n",
        "print(top_brands_ghana)"
      ],
      "metadata": {
        "id": "VWrwoWoeYQ-V",
        "colab": {
          "base_uri": "https://localhost:8080/"
        },
        "outputId": "19cd74b4-6a3e-4325-9b9a-d5b528b5503a"
      },
      "execution_count": 18,
      "outputs": [
        {
          "output_type": "stream",
          "name": "stdout",
          "text": [
            "The top two brand choices in Ghana: \n",
            "\n",
            "         brand  unit_sold\n",
            "1  eagle lager      25829\n",
            "2  castle lite      25806\n"
          ]
        }
      ]
    },
    {
      "cell_type": "markdown",
      "source": [],
      "metadata": {
        "id": "ma_GUS2bOLCx"
      }
    },
    {
      "cell_type": "markdown",
      "source": [
        "### 3. Find out the details of beers consumed in the past three years in the most oil reached country in West Africa."
      ],
      "metadata": {
        "id": "ki-9ut7ldU7_"
      }
    },
    {
      "cell_type": "code",
      "source": [
        "# information on beer consumption in Nigeria (most oil riched) during the last three years\n",
        "\n",
        "df_years = list(df['year'].unique())\n",
        "df_years.sort(reverse=True)\n",
        "last_3_years = df_years[:3]\n",
        "\n",
        "df[(df['country'] == 'Nigeria') & (df['year'].isin(last_3_years)) & (df['is_malt'] == 0)].groupby('brand') \\\n",
        "    .agg(total_quantity_ordered=('quantity', 'sum'), total_revenue=('cost', 'sum'), total_profit=('profit', 'sum')) \\\n",
        "    .reset_index().set_index(pd.Index(range(1, (df[df['is_malt'] == 0]['brand'].nunique() + 1))))\n",
        "# df[(df['country'] == 'Nigeria')]\n",
        "\n",
        "# last_3_years"
      ],
      "metadata": {
        "id": "np_SGQQpdr18",
        "colab": {
          "base_uri": "https://localhost:8080/",
          "height": 206
        },
        "outputId": "82e57ef7-3120-42ed-afae-d7e0bd959735"
      },
      "execution_count": 19,
      "outputs": [
        {
          "output_type": "execute_result",
          "data": {
            "text/plain": [
              "         brand  total_quantity_ordered  total_revenue  total_profit\n",
              "1    budweiser                   26153       13076500       6538250\n",
              "2  castle lite                   25681       11556450       6933870\n",
              "3  eagle lager                   25872        6468000       2069760\n",
              "4         hero                   25811        5162200       1290550\n",
              "5       trophy                   25743        5148600       1287150"
            ],
            "text/html": [
              "\n",
              "  <div id=\"df-21d93cd1-c6a4-4bf9-90b0-3c18b4643b55\" class=\"colab-df-container\">\n",
              "    <div>\n",
              "<style scoped>\n",
              "    .dataframe tbody tr th:only-of-type {\n",
              "        vertical-align: middle;\n",
              "    }\n",
              "\n",
              "    .dataframe tbody tr th {\n",
              "        vertical-align: top;\n",
              "    }\n",
              "\n",
              "    .dataframe thead th {\n",
              "        text-align: right;\n",
              "    }\n",
              "</style>\n",
              "<table border=\"1\" class=\"dataframe\">\n",
              "  <thead>\n",
              "    <tr style=\"text-align: right;\">\n",
              "      <th></th>\n",
              "      <th>brand</th>\n",
              "      <th>total_quantity_ordered</th>\n",
              "      <th>total_revenue</th>\n",
              "      <th>total_profit</th>\n",
              "    </tr>\n",
              "  </thead>\n",
              "  <tbody>\n",
              "    <tr>\n",
              "      <th>1</th>\n",
              "      <td>budweiser</td>\n",
              "      <td>26153</td>\n",
              "      <td>13076500</td>\n",
              "      <td>6538250</td>\n",
              "    </tr>\n",
              "    <tr>\n",
              "      <th>2</th>\n",
              "      <td>castle lite</td>\n",
              "      <td>25681</td>\n",
              "      <td>11556450</td>\n",
              "      <td>6933870</td>\n",
              "    </tr>\n",
              "    <tr>\n",
              "      <th>3</th>\n",
              "      <td>eagle lager</td>\n",
              "      <td>25872</td>\n",
              "      <td>6468000</td>\n",
              "      <td>2069760</td>\n",
              "    </tr>\n",
              "    <tr>\n",
              "      <th>4</th>\n",
              "      <td>hero</td>\n",
              "      <td>25811</td>\n",
              "      <td>5162200</td>\n",
              "      <td>1290550</td>\n",
              "    </tr>\n",
              "    <tr>\n",
              "      <th>5</th>\n",
              "      <td>trophy</td>\n",
              "      <td>25743</td>\n",
              "      <td>5148600</td>\n",
              "      <td>1287150</td>\n",
              "    </tr>\n",
              "  </tbody>\n",
              "</table>\n",
              "</div>\n",
              "    <div class=\"colab-df-buttons\">\n",
              "\n",
              "  <div class=\"colab-df-container\">\n",
              "    <button class=\"colab-df-convert\" onclick=\"convertToInteractive('df-21d93cd1-c6a4-4bf9-90b0-3c18b4643b55')\"\n",
              "            title=\"Convert this dataframe to an interactive table.\"\n",
              "            style=\"display:none;\">\n",
              "\n",
              "  <svg xmlns=\"http://www.w3.org/2000/svg\" height=\"24px\" viewBox=\"0 -960 960 960\">\n",
              "    <path d=\"M120-120v-720h720v720H120Zm60-500h600v-160H180v160Zm220 220h160v-160H400v160Zm0 220h160v-160H400v160ZM180-400h160v-160H180v160Zm440 0h160v-160H620v160ZM180-180h160v-160H180v160Zm440 0h160v-160H620v160Z\"/>\n",
              "  </svg>\n",
              "    </button>\n",
              "\n",
              "  <style>\n",
              "    .colab-df-container {\n",
              "      display:flex;\n",
              "      gap: 12px;\n",
              "    }\n",
              "\n",
              "    .colab-df-convert {\n",
              "      background-color: #E8F0FE;\n",
              "      border: none;\n",
              "      border-radius: 50%;\n",
              "      cursor: pointer;\n",
              "      display: none;\n",
              "      fill: #1967D2;\n",
              "      height: 32px;\n",
              "      padding: 0 0 0 0;\n",
              "      width: 32px;\n",
              "    }\n",
              "\n",
              "    .colab-df-convert:hover {\n",
              "      background-color: #E2EBFA;\n",
              "      box-shadow: 0px 1px 2px rgba(60, 64, 67, 0.3), 0px 1px 3px 1px rgba(60, 64, 67, 0.15);\n",
              "      fill: #174EA6;\n",
              "    }\n",
              "\n",
              "    .colab-df-buttons div {\n",
              "      margin-bottom: 4px;\n",
              "    }\n",
              "\n",
              "    [theme=dark] .colab-df-convert {\n",
              "      background-color: #3B4455;\n",
              "      fill: #D2E3FC;\n",
              "    }\n",
              "\n",
              "    [theme=dark] .colab-df-convert:hover {\n",
              "      background-color: #434B5C;\n",
              "      box-shadow: 0px 1px 3px 1px rgba(0, 0, 0, 0.15);\n",
              "      filter: drop-shadow(0px 1px 2px rgba(0, 0, 0, 0.3));\n",
              "      fill: #FFFFFF;\n",
              "    }\n",
              "  </style>\n",
              "\n",
              "    <script>\n",
              "      const buttonEl =\n",
              "        document.querySelector('#df-21d93cd1-c6a4-4bf9-90b0-3c18b4643b55 button.colab-df-convert');\n",
              "      buttonEl.style.display =\n",
              "        google.colab.kernel.accessAllowed ? 'block' : 'none';\n",
              "\n",
              "      async function convertToInteractive(key) {\n",
              "        const element = document.querySelector('#df-21d93cd1-c6a4-4bf9-90b0-3c18b4643b55');\n",
              "        const dataTable =\n",
              "          await google.colab.kernel.invokeFunction('convertToInteractive',\n",
              "                                                    [key], {});\n",
              "        if (!dataTable) return;\n",
              "\n",
              "        const docLinkHtml = 'Like what you see? Visit the ' +\n",
              "          '<a target=\"_blank\" href=https://colab.research.google.com/notebooks/data_table.ipynb>data table notebook</a>'\n",
              "          + ' to learn more about interactive tables.';\n",
              "        element.innerHTML = '';\n",
              "        dataTable['output_type'] = 'display_data';\n",
              "        await google.colab.output.renderOutput(dataTable, element);\n",
              "        const docLink = document.createElement('div');\n",
              "        docLink.innerHTML = docLinkHtml;\n",
              "        element.appendChild(docLink);\n",
              "      }\n",
              "    </script>\n",
              "  </div>\n",
              "\n",
              "\n",
              "<div id=\"df-ab23afb8-2be1-4242-8fd6-23e5fa0fcc28\">\n",
              "  <button class=\"colab-df-quickchart\" onclick=\"quickchart('df-ab23afb8-2be1-4242-8fd6-23e5fa0fcc28')\"\n",
              "            title=\"Suggest charts\"\n",
              "            style=\"display:none;\">\n",
              "\n",
              "<svg xmlns=\"http://www.w3.org/2000/svg\" height=\"24px\"viewBox=\"0 0 24 24\"\n",
              "     width=\"24px\">\n",
              "    <g>\n",
              "        <path d=\"M19 3H5c-1.1 0-2 .9-2 2v14c0 1.1.9 2 2 2h14c1.1 0 2-.9 2-2V5c0-1.1-.9-2-2-2zM9 17H7v-7h2v7zm4 0h-2V7h2v10zm4 0h-2v-4h2v4z\"/>\n",
              "    </g>\n",
              "</svg>\n",
              "  </button>\n",
              "\n",
              "<style>\n",
              "  .colab-df-quickchart {\n",
              "      --bg-color: #E8F0FE;\n",
              "      --fill-color: #1967D2;\n",
              "      --hover-bg-color: #E2EBFA;\n",
              "      --hover-fill-color: #174EA6;\n",
              "      --disabled-fill-color: #AAA;\n",
              "      --disabled-bg-color: #DDD;\n",
              "  }\n",
              "\n",
              "  [theme=dark] .colab-df-quickchart {\n",
              "      --bg-color: #3B4455;\n",
              "      --fill-color: #D2E3FC;\n",
              "      --hover-bg-color: #434B5C;\n",
              "      --hover-fill-color: #FFFFFF;\n",
              "      --disabled-bg-color: #3B4455;\n",
              "      --disabled-fill-color: #666;\n",
              "  }\n",
              "\n",
              "  .colab-df-quickchart {\n",
              "    background-color: var(--bg-color);\n",
              "    border: none;\n",
              "    border-radius: 50%;\n",
              "    cursor: pointer;\n",
              "    display: none;\n",
              "    fill: var(--fill-color);\n",
              "    height: 32px;\n",
              "    padding: 0;\n",
              "    width: 32px;\n",
              "  }\n",
              "\n",
              "  .colab-df-quickchart:hover {\n",
              "    background-color: var(--hover-bg-color);\n",
              "    box-shadow: 0 1px 2px rgba(60, 64, 67, 0.3), 0 1px 3px 1px rgba(60, 64, 67, 0.15);\n",
              "    fill: var(--button-hover-fill-color);\n",
              "  }\n",
              "\n",
              "  .colab-df-quickchart-complete:disabled,\n",
              "  .colab-df-quickchart-complete:disabled:hover {\n",
              "    background-color: var(--disabled-bg-color);\n",
              "    fill: var(--disabled-fill-color);\n",
              "    box-shadow: none;\n",
              "  }\n",
              "\n",
              "  .colab-df-spinner {\n",
              "    border: 2px solid var(--fill-color);\n",
              "    border-color: transparent;\n",
              "    border-bottom-color: var(--fill-color);\n",
              "    animation:\n",
              "      spin 1s steps(1) infinite;\n",
              "  }\n",
              "\n",
              "  @keyframes spin {\n",
              "    0% {\n",
              "      border-color: transparent;\n",
              "      border-bottom-color: var(--fill-color);\n",
              "      border-left-color: var(--fill-color);\n",
              "    }\n",
              "    20% {\n",
              "      border-color: transparent;\n",
              "      border-left-color: var(--fill-color);\n",
              "      border-top-color: var(--fill-color);\n",
              "    }\n",
              "    30% {\n",
              "      border-color: transparent;\n",
              "      border-left-color: var(--fill-color);\n",
              "      border-top-color: var(--fill-color);\n",
              "      border-right-color: var(--fill-color);\n",
              "    }\n",
              "    40% {\n",
              "      border-color: transparent;\n",
              "      border-right-color: var(--fill-color);\n",
              "      border-top-color: var(--fill-color);\n",
              "    }\n",
              "    60% {\n",
              "      border-color: transparent;\n",
              "      border-right-color: var(--fill-color);\n",
              "    }\n",
              "    80% {\n",
              "      border-color: transparent;\n",
              "      border-right-color: var(--fill-color);\n",
              "      border-bottom-color: var(--fill-color);\n",
              "    }\n",
              "    90% {\n",
              "      border-color: transparent;\n",
              "      border-bottom-color: var(--fill-color);\n",
              "    }\n",
              "  }\n",
              "</style>\n",
              "\n",
              "  <script>\n",
              "    async function quickchart(key) {\n",
              "      const quickchartButtonEl =\n",
              "        document.querySelector('#' + key + ' button');\n",
              "      quickchartButtonEl.disabled = true;  // To prevent multiple clicks.\n",
              "      quickchartButtonEl.classList.add('colab-df-spinner');\n",
              "      try {\n",
              "        const charts = await google.colab.kernel.invokeFunction(\n",
              "            'suggestCharts', [key], {});\n",
              "      } catch (error) {\n",
              "        console.error('Error during call to suggestCharts:', error);\n",
              "      }\n",
              "      quickchartButtonEl.classList.remove('colab-df-spinner');\n",
              "      quickchartButtonEl.classList.add('colab-df-quickchart-complete');\n",
              "    }\n",
              "    (() => {\n",
              "      let quickchartButtonEl =\n",
              "        document.querySelector('#df-ab23afb8-2be1-4242-8fd6-23e5fa0fcc28 button');\n",
              "      quickchartButtonEl.style.display =\n",
              "        google.colab.kernel.accessAllowed ? 'block' : 'none';\n",
              "    })();\n",
              "  </script>\n",
              "</div>\n",
              "\n",
              "    </div>\n",
              "  </div>\n"
            ],
            "application/vnd.google.colaboratory.intrinsic+json": {
              "type": "dataframe",
              "summary": "{\n  \"name\": \"# last_3_years\",\n  \"rows\": 5,\n  \"fields\": [\n    {\n      \"column\": \"brand\",\n      \"properties\": {\n        \"dtype\": \"string\",\n        \"num_unique_values\": 5,\n        \"samples\": [\n          \"castle lite\",\n          \"trophy\",\n          \"eagle lager\"\n        ],\n        \"semantic_type\": \"\",\n        \"description\": \"\"\n      }\n    },\n    {\n      \"column\": \"total_quantity_ordered\",\n      \"properties\": {\n        \"dtype\": \"number\",\n        \"std\": 182,\n        \"min\": 25681,\n        \"max\": 26153,\n        \"num_unique_values\": 5,\n        \"samples\": [\n          25681,\n          25743,\n          25872\n        ],\n        \"semantic_type\": \"\",\n        \"description\": \"\"\n      }\n    },\n    {\n      \"column\": \"total_revenue\",\n      \"properties\": {\n        \"dtype\": \"number\",\n        \"std\": 3760026,\n        \"min\": 5148600,\n        \"max\": 13076500,\n        \"num_unique_values\": 5,\n        \"samples\": [\n          11556450,\n          5148600,\n          6468000\n        ],\n        \"semantic_type\": \"\",\n        \"description\": \"\"\n      }\n    },\n    {\n      \"column\": \"total_profit\",\n      \"properties\": {\n        \"dtype\": \"number\",\n        \"std\": 2862237,\n        \"min\": 1287150,\n        \"max\": 6933870,\n        \"num_unique_values\": 5,\n        \"samples\": [\n          6933870,\n          1287150,\n          2069760\n        ],\n        \"semantic_type\": \"\",\n        \"description\": \"\"\n      }\n    }\n  ]\n}"
            }
          },
          "metadata": {},
          "execution_count": 19
        }
      ]
    },
    {
      "cell_type": "markdown",
      "source": [
        "### 4. What was the favorites malt brands in Anglophone region between 2018 and 2019?"
      ],
      "metadata": {
        "id": "xfZHMwIAWnuD"
      }
    },
    {
      "cell_type": "code",
      "source": [
        "# Favorites malt brands in Anglophone region between 2018 and 2019\n",
        "\n",
        "# df.query('year in [2018, 2019] and territory == \"anglophone\" and is_malt == 1')\n",
        "fav_malt_anglo_18_19 = df[(df['year'].isin([2018, 2019])) & (df['territory'] == 'anglophone') & (df['is_malt'] == 1)].groupby('brand')['quantity'] \\\n",
        "                        .agg(total_consumed='sum').sort_values(by='total_consumed', ascending=False).reset_index().set_index(pd.Index([1,2]))\n",
        "\n",
        "fav_malt, fav_malt_amount = fav_malt_anglo_18_19.iloc[0].to_list()\n",
        "\n",
        "print(fav_malt_anglo_18_19)\n",
        "\n",
        "print('\\n', fav_malt, f'is the favourite malt brand in Anglophone countries between 2018 and 2019. It was bought {fav_malt_amount}.')"
      ],
      "metadata": {
        "colab": {
          "base_uri": "https://localhost:8080/"
        },
        "id": "fTPwlsD_WifI",
        "outputId": "3a2669f0-fa01-44f7-8280-7276793e8729"
      },
      "execution_count": 20,
      "outputs": [
        {
          "output_type": "stream",
          "name": "stdout",
          "text": [
            "        brand  total_consumed\n",
            "1  grand malt           33221\n",
            "2   beta malt           32118\n",
            "\n",
            " grand malt is the favourite malt brand in Anglophone countries between 2018 and 2019. It was bought 33221.\n"
          ]
        }
      ]
    },
    {
      "cell_type": "markdown",
      "source": [
        "### 5. Which brands sold the highest in 2019 in Nigeria?"
      ],
      "metadata": {
        "id": "Opz-gOTtcs4-"
      }
    },
    {
      "cell_type": "code",
      "source": [
        "# Which brands sold the highest in 2019 in Nigeria?\n",
        "ngr_brands_2019 = df[(df['country'] == 'Nigeria') & (df['year'] == 2019)].groupby('brand')['quantity'].agg(number_sold='sum') \\\n",
        "                    .sort_values('number_sold', ascending=False).reset_index().set_index(pd.Index(range(1, df['brand'].nunique() + 1)))\n",
        "\n",
        "brand, amount = ngr_brands_2019.iloc[0].to_list()\n",
        "\n",
        "print(ngr_brands_2019)\n",
        "print('\\n', f'{brand.capitalize()} sold the highest in 2019 at {amount}.')\n"
      ],
      "metadata": {
        "colab": {
          "base_uri": "https://localhost:8080/"
        },
        "id": "_SRZm1cTcvoK",
        "outputId": "c161a4fc-9645-48a5-9843-16793d81280a"
      },
      "execution_count": 21,
      "outputs": [
        {
          "output_type": "stream",
          "name": "stdout",
          "text": [
            "         brand  number_sold\n",
            "1         hero         9622\n",
            "2  eagle lager         8401\n",
            "3    beta malt         8389\n",
            "4   grand malt         8125\n",
            "5       trophy         5803\n",
            "6    budweiser         5490\n",
            "7  castle lite         3388\n",
            "\n",
            " Hero sold the highest in 2019 at 9622.\n"
          ]
        }
      ]
    },
    {
      "cell_type": "markdown",
      "source": [
        "### 6. What was the favorite brands in the South-South region in Nigeria?"
      ],
      "metadata": {
        "id": "oj24wW7mha0Q"
      }
    },
    {
      "cell_type": "code",
      "source": [
        "# 6. Favorite brands in the South-South region in Nigeria\n",
        "\n",
        "fav_brands_ss_ngr = df[(df['country'] == 'Nigeria') & (df['region'] == 'southsouth')].groupby('brand')['quantity'] \\\n",
        "                    .agg(quantity_sold='sum').sort_values('quantity_sold', ascending=False).reset_index() \\\n",
        "                    .set_index(pd.Index(range(1, df['brand'].nunique() + 1)))\n",
        "\n",
        "print(fav_brands_ss_ngr )\n",
        "\n",
        "fav_brand = fav_brands_ss_ngr.iloc[0].to_list()\n",
        "\n",
        "print('\\n', '{0} was the favorite brand in South-South Nigeria. It sold {1} units.'.format(*fav_brand))"
      ],
      "metadata": {
        "colab": {
          "base_uri": "https://localhost:8080/"
        },
        "id": "MFhwgufYiAB7",
        "outputId": "3eaa4ddb-de46-4577-a57a-62a4ab1943b7"
      },
      "execution_count": 22,
      "outputs": [
        {
          "output_type": "stream",
          "name": "stdout",
          "text": [
            "         brand  quantity_sold\n",
            "1  eagle lager           4551\n",
            "2       trophy           4468\n",
            "3         hero           4456\n",
            "4    budweiser           4328\n",
            "5  castle lite           4287\n",
            "6    beta malt           4257\n",
            "7   grand malt           3914\n",
            "\n",
            " eagle lager was the favorite brand in South-South Nigeria. It sold 4551 units.\n"
          ]
        }
      ]
    },
    {
      "cell_type": "markdown",
      "source": [
        "### 7. What is the beer consumption in Nigeria?"
      ],
      "metadata": {
        "id": "vISHHd1qQpnk"
      }
    },
    {
      "cell_type": "code",
      "source": [
        "# 7. Beer consumption in Nigeria\n",
        "\n",
        "num_of_beer_NGR = df[(df['country'] == 'Nigeria') & (df['is_malt'] == 0)]['quantity'].sum()\n",
        "\n",
        "print('{0} unit of beer were sold in Nigeria.'.format(num_of_beer_NGR))"
      ],
      "metadata": {
        "colab": {
          "base_uri": "https://localhost:8080/"
        },
        "id": "zv-zLioSipAk",
        "outputId": "9c6cc0bc-08f5-4a08-85be-a56717bc23b4"
      },
      "execution_count": 23,
      "outputs": [
        {
          "output_type": "stream",
          "name": "stdout",
          "text": [
            "129260 unit of beer were sold in Nigeria.\n"
          ]
        }
      ]
    },
    {
      "cell_type": "markdown",
      "source": [
        "### 8. What is the level of consumption of Budweiser in the regions in Nigeria"
      ],
      "metadata": {
        "id": "nqXnljyoTwBS"
      }
    },
    {
      "cell_type": "code",
      "source": [
        "# 8. What is the level of consumption of Budweiser in the regions in Nigeria\n",
        "\n",
        "ngr_bud_qty = df[(df['brand'] == 'budweiser') & (df['country'] == 'Nigeria')].groupby('region')['quantity'].agg(bud_qty_consumed='sum') \\\n",
        "                .reset_index().set_index(pd.Index(range(1, df[(df['country'] == 'Nigeria') & (df['brand'] == 'budweiser')]['region'].nunique() + 1)))\n",
        "\n",
        "print(ngr_bud_qty)\n",
        "\n",
        "\n"
      ],
      "metadata": {
        "colab": {
          "base_uri": "https://localhost:8080/"
        },
        "id": "wuz-vvVDTtUm",
        "outputId": "33ec1434-5356-4c05-ef3f-231c8975ba69"
      },
      "execution_count": 24,
      "outputs": [
        {
          "output_type": "stream",
          "name": "stdout",
          "text": [
            "         region  bud_qty_consumed\n",
            "1     Southeast              4113\n",
            "2  northcentral              4498\n",
            "3     northeast              4320\n",
            "4     northwest              4274\n",
            "5    southsouth              4328\n",
            "6          west              4620\n"
          ]
        }
      ]
    },
    {
      "cell_type": "markdown",
      "source": [
        "### What is level of consumption of Budweiser in the regions in Nigeria in 2019?"
      ],
      "metadata": {
        "id": "-pmFO6Pwu4S7"
      }
    },
    {
      "cell_type": "code",
      "source": [
        "# Level of consumption of Budweiser in the regions in Nigeria in 2019\n",
        "\n",
        "ngr_bud_qty = df[(df['brand'] == 'budweiser') & (df['country'] == 'Nigeria') & (df['year'] == 2019)].groupby('region')['quantity'].agg(bud_qty_consumed='sum') \\\n",
        "                .reset_index().set_index(pd.Index(range(1, df[(df['country'] == 'Nigeria') & (df['brand'] == 'budweiser') & (df['year'] == 2019)]['region'].nunique() + 1)))\n",
        "\n",
        "print(ngr_bud_qty)\n"
      ],
      "metadata": {
        "colab": {
          "base_uri": "https://localhost:8080/"
        },
        "id": "FqchzZPqdvkH",
        "outputId": "f8fede70-aa59-4cf9-b685-bf4dc3730412"
      },
      "execution_count": 25,
      "outputs": [
        {
          "output_type": "stream",
          "name": "stdout",
          "text": [
            "       region  bud_qty_consumed\n",
            "1   Southeast              1821\n",
            "2   northeast               990\n",
            "3   northwest               948\n",
            "4  southsouth               847\n",
            "5        west               884\n"
          ]
        }
      ]
    },
    {
      "cell_type": "markdown",
      "source": [
        "## SECTION C: COUNTRY ANALYSIS"
      ],
      "metadata": {
        "id": "w2RRCb4HxkWM"
      }
    },
    {
      "cell_type": "markdown",
      "source": [
        "### 1. What country has the highest consumption of beer?"
      ],
      "metadata": {
        "id": "4wySTD61x_xm"
      }
    },
    {
      "cell_type": "code",
      "source": [
        "# 1. Country with the highest consumption of beer\n",
        "higest_beer = df[df['is_malt'] == 0].groupby('country')['quantity'].agg(total_quantity_consumed='sum').sort_values(by='total_quantity_consumed', ascending=False)\n",
        "\n",
        "print(higest_beer, '\\n\\n', higest_beer.index[0], 'has the highest consumption of beer.')"
      ],
      "metadata": {
        "id": "K-UQdiq7xf53",
        "colab": {
          "base_uri": "https://localhost:8080/"
        },
        "outputId": "1edc5c7b-7d1e-4d39-f418-99d7aa1944a3"
      },
      "execution_count": 26,
      "outputs": [
        {
          "output_type": "stream",
          "name": "stdout",
          "text": [
            "         total_quantity_consumed\n",
            "country                         \n",
            "Senegal                   129875\n",
            "Nigeria                   129260\n",
            "Benin                     127455\n",
            "Ghana                     127232\n",
            "Togo                      125548 \n",
            "\n",
            " Senegal has the highest consumption of beer.\n"
          ]
        }
      ]
    },
    {
      "cell_type": "markdown",
      "source": [
        "### 2. Highest sales personnel of Budweiser in Senegal"
      ],
      "metadata": {
        "id": "k2-GUj7eIQM_"
      }
    },
    {
      "cell_type": "code",
      "source": [
        "# 2. Highest sales personnel of Budweiser in Senegal\n",
        "sen_bud_rep = df[(df['brand'] == 'budweiser') & (df['country'] == 'Senegal')].groupby('sales_rep')['quantity'].agg(bud_qty_consumed='sum').sort_values(by='bud_qty_consumed', ascending=False)\n",
        "\n",
        "print(sen_bud_rep, '\\n\\n', sen_bud_rep.index[0], 'is the highest sales personnel of Budweiser in Senegal.')"
      ],
      "metadata": {
        "colab": {
          "base_uri": "https://localhost:8080/"
        },
        "id": "0UYwRCSOIekc",
        "outputId": "05bf2c46-5ef5-4433-a9b3-9d5e33124d19"
      },
      "execution_count": 27,
      "outputs": [
        {
          "output_type": "stream",
          "name": "stdout",
          "text": [
            "           bud_qty_consumed\n",
            "sales_rep                  \n",
            "Jones                  5917\n",
            "Sorvino                4246\n",
            "Andrews                3336\n",
            "Kivell                 2813\n",
            "Jardine                2507\n",
            "Parent                 1842\n",
            "Smith                  1673\n",
            "Gill                    966\n",
            "Howard                  952\n",
            "Morgan                  942\n",
            "Thompson                729 \n",
            "\n",
            " Jones is the highest sales personnel of Budweiser in Senegal.\n"
          ]
        }
      ]
    },
    {
      "cell_type": "markdown",
      "source": [
        "### 3. Country with the highest profit in the fourth quarter in 2019"
      ],
      "metadata": {
        "id": "AkBU7rUxId14"
      }
    },
    {
      "cell_type": "code",
      "source": [
        "# 3. Country with the highest profit in the fourth quarter in 2019\n",
        "\n",
        "q4_profit_by_country = df[df['month_num'].isin([10,11,12])].groupby('country')['profit'].agg(q4_profit='sum').sort_values(by='q4_profit', ascending=False)\n",
        "\n",
        "print(q4_profit_by_country, '\\n\\n', q4_profit_by_country.index[0], 'has the highest profit in the fourth quarter in 2019.')"
      ],
      "metadata": {
        "colab": {
          "base_uri": "https://localhost:8080/"
        },
        "id": "v8vn8qM3LOcn",
        "outputId": "75519e19-f232-4760-ae5d-7823a5c8bd15"
      },
      "execution_count": 28,
      "outputs": [
        {
          "output_type": "stream",
          "name": "stdout",
          "text": [
            "         q4_profit\n",
            "country           \n",
            "Nigeria    5519070\n",
            "Togo       5490840\n",
            "Benin      5283210\n",
            "Senegal    5052430\n",
            "Ghana      5029170 \n",
            "\n",
            " Nigeria has the highest profit in the fourth quarter in 2019.\n"
          ]
        }
      ]
    }
  ],
  "metadata": {
    "colab": {
      "provenance": []
    },
    "kernelspec": {
      "display_name": "Python 3",
      "name": "python3"
    },
    "language_info": {
      "name": "python"
    }
  },
  "nbformat": 4,
  "nbformat_minor": 0
}